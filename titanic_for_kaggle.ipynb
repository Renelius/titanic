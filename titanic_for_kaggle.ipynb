{
 "cells": [
  {
   "cell_type": "code",
   "execution_count": 1,
   "metadata": {},
   "outputs": [],
   "source": [
    "#Здесь представлено решение, знаметитой задачи Титаник.\n",
    "#Датасет Титаник содержит данные пассажиров корабля. \n",
    "#Цель задачи — построить модель, которая лучшим образом сможет предсказать, остался ли произвольный пассажир в живых или нет."
   ]
  },
  {
   "cell_type": "code",
   "execution_count": null,
   "metadata": {},
   "outputs": [],
   "source": [
    "from sklearn import tree\n",
    "import sklearn\n",
    "import pandas as pd\n",
    "import numpy as np\n",
    "import matplotlib.pyplot as plt\n",
    "import seaborn as sns\n",
    "from sklearn.model_selection import cross_val_score\n",
    "from sklearn.metrics import precision_score, recall_score, confusion_matrix\n",
    "from sklearn.model_selection import GridSearchCV\n",
    "from sklearn.model_selection import train_test_split"
   ]
  },
  {
   "cell_type": "code",
   "execution_count": 25,
   "metadata": {},
   "outputs": [],
   "source": [
    "titanic_data=pd.read_csv('train.csv')"
   ]
  },
  {
   "cell_type": "code",
   "execution_count": 26,
   "metadata": {},
   "outputs": [],
   "source": [
    "titanic_test=pd.read_csv('test.csv')"
   ]
  },
  {
   "cell_type": "code",
   "execution_count": 4,
   "metadata": {
    "collapsed": true
   },
   "outputs": [
    {
     "data": {
      "text/html": [
       "<div>\n",
       "<style scoped>\n",
       "    .dataframe tbody tr th:only-of-type {\n",
       "        vertical-align: middle;\n",
       "    }\n",
       "\n",
       "    .dataframe tbody tr th {\n",
       "        vertical-align: top;\n",
       "    }\n",
       "\n",
       "    .dataframe thead th {\n",
       "        text-align: right;\n",
       "    }\n",
       "</style>\n",
       "<table border=\"1\" class=\"dataframe\">\n",
       "  <thead>\n",
       "    <tr style=\"text-align: right;\">\n",
       "      <th></th>\n",
       "      <th>PassengerId</th>\n",
       "      <th>Survived</th>\n",
       "      <th>Pclass</th>\n",
       "      <th>Name</th>\n",
       "      <th>Sex</th>\n",
       "      <th>Age</th>\n",
       "      <th>SibSp</th>\n",
       "      <th>Parch</th>\n",
       "      <th>Ticket</th>\n",
       "      <th>Fare</th>\n",
       "      <th>Cabin</th>\n",
       "      <th>Embarked</th>\n",
       "    </tr>\n",
       "  </thead>\n",
       "  <tbody>\n",
       "    <tr>\n",
       "      <td>0</td>\n",
       "      <td>1</td>\n",
       "      <td>0</td>\n",
       "      <td>3</td>\n",
       "      <td>Braund, Mr. Owen Harris</td>\n",
       "      <td>male</td>\n",
       "      <td>22.0</td>\n",
       "      <td>1</td>\n",
       "      <td>0</td>\n",
       "      <td>A/5 21171</td>\n",
       "      <td>7.2500</td>\n",
       "      <td>NaN</td>\n",
       "      <td>S</td>\n",
       "    </tr>\n",
       "    <tr>\n",
       "      <td>1</td>\n",
       "      <td>2</td>\n",
       "      <td>1</td>\n",
       "      <td>1</td>\n",
       "      <td>Cumings, Mrs. John Bradley (Florence Briggs Th...</td>\n",
       "      <td>female</td>\n",
       "      <td>38.0</td>\n",
       "      <td>1</td>\n",
       "      <td>0</td>\n",
       "      <td>PC 17599</td>\n",
       "      <td>71.2833</td>\n",
       "      <td>C85</td>\n",
       "      <td>C</td>\n",
       "    </tr>\n",
       "    <tr>\n",
       "      <td>2</td>\n",
       "      <td>3</td>\n",
       "      <td>1</td>\n",
       "      <td>3</td>\n",
       "      <td>Heikkinen, Miss. Laina</td>\n",
       "      <td>female</td>\n",
       "      <td>26.0</td>\n",
       "      <td>0</td>\n",
       "      <td>0</td>\n",
       "      <td>STON/O2. 3101282</td>\n",
       "      <td>7.9250</td>\n",
       "      <td>NaN</td>\n",
       "      <td>S</td>\n",
       "    </tr>\n",
       "    <tr>\n",
       "      <td>3</td>\n",
       "      <td>4</td>\n",
       "      <td>1</td>\n",
       "      <td>1</td>\n",
       "      <td>Futrelle, Mrs. Jacques Heath (Lily May Peel)</td>\n",
       "      <td>female</td>\n",
       "      <td>35.0</td>\n",
       "      <td>1</td>\n",
       "      <td>0</td>\n",
       "      <td>113803</td>\n",
       "      <td>53.1000</td>\n",
       "      <td>C123</td>\n",
       "      <td>S</td>\n",
       "    </tr>\n",
       "    <tr>\n",
       "      <td>4</td>\n",
       "      <td>5</td>\n",
       "      <td>0</td>\n",
       "      <td>3</td>\n",
       "      <td>Allen, Mr. William Henry</td>\n",
       "      <td>male</td>\n",
       "      <td>35.0</td>\n",
       "      <td>0</td>\n",
       "      <td>0</td>\n",
       "      <td>373450</td>\n",
       "      <td>8.0500</td>\n",
       "      <td>NaN</td>\n",
       "      <td>S</td>\n",
       "    </tr>\n",
       "  </tbody>\n",
       "</table>\n",
       "</div>"
      ],
      "text/plain": [
       "   PassengerId  Survived  Pclass  \\\n",
       "0            1         0       3   \n",
       "1            2         1       1   \n",
       "2            3         1       3   \n",
       "3            4         1       1   \n",
       "4            5         0       3   \n",
       "\n",
       "                                                Name     Sex   Age  SibSp  \\\n",
       "0                            Braund, Mr. Owen Harris    male  22.0      1   \n",
       "1  Cumings, Mrs. John Bradley (Florence Briggs Th...  female  38.0      1   \n",
       "2                             Heikkinen, Miss. Laina  female  26.0      0   \n",
       "3       Futrelle, Mrs. Jacques Heath (Lily May Peel)  female  35.0      1   \n",
       "4                           Allen, Mr. William Henry    male  35.0      0   \n",
       "\n",
       "   Parch            Ticket     Fare Cabin Embarked  \n",
       "0      0         A/5 21171   7.2500   NaN        S  \n",
       "1      0          PC 17599  71.2833   C85        C  \n",
       "2      0  STON/O2. 3101282   7.9250   NaN        S  \n",
       "3      0            113803  53.1000  C123        S  \n",
       "4      0            373450   8.0500   NaN        S  "
      ]
     },
     "execution_count": 4,
     "metadata": {},
     "output_type": "execute_result"
    }
   ],
   "source": [
    "titanic_data.head()"
   ]
  },
  {
   "cell_type": "code",
   "execution_count": 9,
   "metadata": {
    "collapsed": true
   },
   "outputs": [
    {
     "name": "stdout",
     "output_type": "stream",
     "text": [
      "<class 'pandas.core.frame.DataFrame'>\n",
      "RangeIndex: 891 entries, 0 to 890\n",
      "Data columns (total 12 columns):\n",
      "PassengerId    891 non-null int64\n",
      "Survived       891 non-null int64\n",
      "Pclass         891 non-null int64\n",
      "Name           891 non-null object\n",
      "Sex            891 non-null object\n",
      "Age            714 non-null float64\n",
      "SibSp          891 non-null int64\n",
      "Parch          891 non-null int64\n",
      "Ticket         891 non-null object\n",
      "Fare           891 non-null float64\n",
      "Cabin          204 non-null object\n",
      "Embarked       889 non-null object\n",
      "dtypes: float64(2), int64(5), object(5)\n",
      "memory usage: 83.7+ KB\n"
     ]
    }
   ],
   "source": [
    "titanic_data.info()"
   ]
  },
  {
   "cell_type": "code",
   "execution_count": 23,
   "metadata": {
    "collapsed": true
   },
   "outputs": [
    {
     "data": {
      "text/html": [
       "<div>\n",
       "<style scoped>\n",
       "    .dataframe tbody tr th:only-of-type {\n",
       "        vertical-align: middle;\n",
       "    }\n",
       "\n",
       "    .dataframe tbody tr th {\n",
       "        vertical-align: top;\n",
       "    }\n",
       "\n",
       "    .dataframe thead th {\n",
       "        text-align: right;\n",
       "    }\n",
       "</style>\n",
       "<table border=\"1\" class=\"dataframe\">\n",
       "  <thead>\n",
       "    <tr style=\"text-align: right;\">\n",
       "      <th></th>\n",
       "      <th>PassengerId</th>\n",
       "      <th>Survived</th>\n",
       "      <th>Pclass</th>\n",
       "      <th>Age</th>\n",
       "      <th>SibSp</th>\n",
       "      <th>Parch</th>\n",
       "      <th>Fare</th>\n",
       "    </tr>\n",
       "  </thead>\n",
       "  <tbody>\n",
       "    <tr>\n",
       "      <td>PassengerId</td>\n",
       "      <td>1.000000</td>\n",
       "      <td>-0.005007</td>\n",
       "      <td>-0.035144</td>\n",
       "      <td>0.036847</td>\n",
       "      <td>-0.057527</td>\n",
       "      <td>-0.001652</td>\n",
       "      <td>0.012658</td>\n",
       "    </tr>\n",
       "    <tr>\n",
       "      <td>Survived</td>\n",
       "      <td>-0.005007</td>\n",
       "      <td>1.000000</td>\n",
       "      <td>-0.338481</td>\n",
       "      <td>-0.077221</td>\n",
       "      <td>-0.035322</td>\n",
       "      <td>0.081629</td>\n",
       "      <td>0.257307</td>\n",
       "    </tr>\n",
       "    <tr>\n",
       "      <td>Pclass</td>\n",
       "      <td>-0.035144</td>\n",
       "      <td>-0.338481</td>\n",
       "      <td>1.000000</td>\n",
       "      <td>-0.369226</td>\n",
       "      <td>0.083081</td>\n",
       "      <td>0.018443</td>\n",
       "      <td>-0.549500</td>\n",
       "    </tr>\n",
       "    <tr>\n",
       "      <td>Age</td>\n",
       "      <td>0.036847</td>\n",
       "      <td>-0.077221</td>\n",
       "      <td>-0.369226</td>\n",
       "      <td>1.000000</td>\n",
       "      <td>-0.308247</td>\n",
       "      <td>-0.189119</td>\n",
       "      <td>0.096067</td>\n",
       "    </tr>\n",
       "    <tr>\n",
       "      <td>SibSp</td>\n",
       "      <td>-0.057527</td>\n",
       "      <td>-0.035322</td>\n",
       "      <td>0.083081</td>\n",
       "      <td>-0.308247</td>\n",
       "      <td>1.000000</td>\n",
       "      <td>0.414838</td>\n",
       "      <td>0.159651</td>\n",
       "    </tr>\n",
       "    <tr>\n",
       "      <td>Parch</td>\n",
       "      <td>-0.001652</td>\n",
       "      <td>0.081629</td>\n",
       "      <td>0.018443</td>\n",
       "      <td>-0.189119</td>\n",
       "      <td>0.414838</td>\n",
       "      <td>1.000000</td>\n",
       "      <td>0.216225</td>\n",
       "    </tr>\n",
       "    <tr>\n",
       "      <td>Fare</td>\n",
       "      <td>0.012658</td>\n",
       "      <td>0.257307</td>\n",
       "      <td>-0.549500</td>\n",
       "      <td>0.096067</td>\n",
       "      <td>0.159651</td>\n",
       "      <td>0.216225</td>\n",
       "      <td>1.000000</td>\n",
       "    </tr>\n",
       "  </tbody>\n",
       "</table>\n",
       "</div>"
      ],
      "text/plain": [
       "             PassengerId  Survived    Pclass       Age     SibSp     Parch  \\\n",
       "PassengerId     1.000000 -0.005007 -0.035144  0.036847 -0.057527 -0.001652   \n",
       "Survived       -0.005007  1.000000 -0.338481 -0.077221 -0.035322  0.081629   \n",
       "Pclass         -0.035144 -0.338481  1.000000 -0.369226  0.083081  0.018443   \n",
       "Age             0.036847 -0.077221 -0.369226  1.000000 -0.308247 -0.189119   \n",
       "SibSp          -0.057527 -0.035322  0.083081 -0.308247  1.000000  0.414838   \n",
       "Parch          -0.001652  0.081629  0.018443 -0.189119  0.414838  1.000000   \n",
       "Fare            0.012658  0.257307 -0.549500  0.096067  0.159651  0.216225   \n",
       "\n",
       "                 Fare  \n",
       "PassengerId  0.012658  \n",
       "Survived     0.257307  \n",
       "Pclass      -0.549500  \n",
       "Age          0.096067  \n",
       "SibSp        0.159651  \n",
       "Parch        0.216225  \n",
       "Fare         1.000000  "
      ]
     },
     "execution_count": 23,
     "metadata": {},
     "output_type": "execute_result"
    }
   ],
   "source": [
    "titanic_data.corr()"
   ]
  },
  {
   "cell_type": "code",
   "execution_count": 28,
   "metadata": {
    "collapsed": true
   },
   "outputs": [
    {
     "data": {
      "text/plain": [
       "<matplotlib.axes._subplots.AxesSubplot at 0x1f1e36ac788>"
      ]
     },
     "execution_count": 28,
     "metadata": {},
     "output_type": "execute_result"
    },
    {
     "data": {
      "image/png": "[encoded data removed]",
      "text/plain": [
       "<Figure size 1080x360 with 2 Axes>"
      ]
     },
     "metadata": {
      "needs_background": "light"
     },
     "output_type": "display_data"
    }
   ],
   "source": [
    "# Survived в зависимости от Embarked и Pclass\n",
    "fig,ax=plt.subplots(1, 2,figsize=(15,5))\n",
    "sns.barplot(x='Embarked',y='Survived',data=titanic_data,ax=ax[0])\n",
    "sns.barplot(x='Pclass',y='Survived',order=[1,2,3],data=titanic_data,ax=ax[1])\n"
   ]
  },
  {
   "cell_type": "code",
   "execution_count": 32,
   "metadata": {
    "collapsed": true
   },
   "outputs": [
    {
     "data": {
      "text/plain": [
       "<matplotlib.axes._subplots.AxesSubplot at 0x1f1e1300f88>"
      ]
     },
     "execution_count": 32,
     "metadata": {},
     "output_type": "execute_result"
    },
    {
     "data": {
      "image/png": "[encoded data removed]",
      "text/plain": [
       "<Figure size 720x360 with 1 Axes>"
      ]
     },
     "metadata": {
      "needs_background": "light"
     },
     "output_type": "display_data"
    }
   ],
   "source": [
    "# Survived в зависимости от цены билета\n",
    "df=titanic_data.copy()\n",
    "df['Fare'] = pd.cut(df['Fare'], bins=[0, 50, 100, 150, 200, 250, 300,600])\n",
    "plt.figure(figsize=(10,5))\n",
    "sns.pointplot(x='Fare',y='Survived', data=df)"
   ]
  },
  {
   "cell_type": "code",
   "execution_count": 9,
   "metadata": {
    "collapsed": true
   },
   "outputs": [
    {
     "name": "stderr",
     "output_type": "stream",
     "text": [
      "C:\\Users\\papa\\Anaconda3\\lib\\site-packages\\seaborn\\categorical.py:3666: UserWarning: The `factorplot` function has been renamed to `catplot`. The original name will be removed in a future release. Please update your code. Note that the default `kind` in `factorplot` (`'point'`) has changed `'strip'` in `catplot`.\n",
      "  warnings.warn(msg)\n",
      "C:\\Users\\papa\\Anaconda3\\lib\\site-packages\\seaborn\\categorical.py:3666: UserWarning: The `factorplot` function has been renamed to `catplot`. The original name will be removed in a future release. Please update your code. Note that the default `kind` in `factorplot` (`'point'`) has changed `'strip'` in `catplot`.\n",
      "  warnings.warn(msg)\n"
     ]
    },
    {
     "data": {
      "text/plain": [
       "<seaborn.axisgrid.FacetGrid at 0x2167bb94748>"
      ]
     },
     "execution_count": 9,
     "metadata": {},
     "output_type": "execute_result"
    },
    {
     "data": {
      "image/png": "[encoded data removed]",
      "text/plain": [
       "<Figure size 360x360 with 1 Axes>"
      ]
     },
     "metadata": {
      "needs_background": "light"
     },
     "output_type": "display_data"
    },
    {
     "data": {
      "image/png": "[encoded data removed]",
      "text/plain": [
       "<Figure size 360x360 with 1 Axes>"
      ]
     },
     "metadata": {
      "needs_background": "light"
     },
     "output_type": "display_data"
    }
   ],
   "source": [
    "# боксплот для Survived в зависимости возраста пассажиров \n",
    "sns.factorplot(x=\"Survived\", y = \"Age\",data = titanic_data, kind=\"box\")\n",
    "sns.factorplot(x=\"Survived\", y = \"Age\",data = titanic_data, kind=\"violin\")"
   ]
  },
  {
   "cell_type": "code",
   "execution_count": 33,
   "metadata": {
    "collapsed": true
   },
   "outputs": [
    {
     "data": {
      "text/plain": [
       "<matplotlib.axes._subplots.AxesSubplot at 0x1f1e34bf288>"
      ]
     },
     "execution_count": 33,
     "metadata": {},
     "output_type": "execute_result"
    },
    {
     "data": {
      "image/png": "[encoded data removed]",
      "text/plain": [
       "<Figure size 1008x864 with 2 Axes>"
      ]
     },
     "metadata": {
      "needs_background": "light"
     },
     "output_type": "display_data"
    }
   ],
   "source": [
    "# Корреляция\n",
    "colormap = plt.cm.RdBu\n",
    "plt.figure(figsize=(14,12))\n",
    "plt.title('Pearson Correlation of Features', y=1.05, size=15)\n",
    "sns.heatmap(titanic_data.corr(),linewidths=0.1,vmax=1.0, \n",
    "            square=True, cmap=colormap, linecolor='white', annot=True)"
   ]
  },
  {
   "cell_type": "code",
   "execution_count": 34,
   "metadata": {
    "collapsed": true
   },
   "outputs": [
    {
     "name": "stderr",
     "output_type": "stream",
     "text": [
      "C:\\Users\\papa\\Anaconda3\\lib\\site-packages\\seaborn\\axisgrid.py:230: UserWarning: The `size` paramter has been renamed to `height`; please update your code.\n",
      "  warnings.warn(msg, UserWarning)\n",
      "C:\\Users\\papa\\Anaconda3\\lib\\site-packages\\seaborn\\axisgrid.py:715: UserWarning: Using the pointplot function without specifying `order` is likely to produce an incorrect plot.\n",
      "  warnings.warn(warning)\n",
      "C:\\Users\\papa\\Anaconda3\\lib\\site-packages\\seaborn\\axisgrid.py:720: UserWarning: Using the pointplot function without specifying `hue_order` is likely to produce an incorrect plot.\n",
      "  warnings.warn(warning)\n"
     ]
    },
    {
     "data": {
      "text/plain": [
       "<seaborn.axisgrid.FacetGrid at 0x1f1e34bc888>"
      ]
     },
     "execution_count": 34,
     "metadata": {},
     "output_type": "execute_result"
    },
    {
     "data": {
      "image/png": "[encoded data removed]",
      "text/plain": [
       "<Figure size 323.94x475.2 with 3 Axes>"
      ]
     },
     "metadata": {
      "needs_background": "light"
     },
     "output_type": "display_data"
    }
   ],
   "source": [
    "grid = sns.FacetGrid(titanic_data, row='Embarked', size=2.2, aspect=1.6)\n",
    "grid.map(sns.pointplot, 'Pclass', 'Survived', 'Sex', palette='deep')\n",
    "grid.add_legend()"
   ]
  },
  {
   "cell_type": "code",
   "execution_count": 6,
   "metadata": {},
   "outputs": [],
   "source": [
    "from sklearn.impute import SimpleImputer\n",
    "from sklearn.base import BaseEstimator, TransformerMixin\n",
    "from sklearn.preprocessing import StandardScaler, MinMaxScaler\n"
   ]
  },
  {
   "cell_type": "code",
   "execution_count": 7,
   "metadata": {},
   "outputs": [],
   "source": [
    "# далее создание конвеера для численных данных"
   ]
  },
  {
   "cell_type": "code",
   "execution_count": 8,
   "metadata": {},
   "outputs": [],
   "source": [
    "# Создание трансформатора для заполнения пропущеных значений медианными значениями внутри группы('Pclass','Sex')\n",
    "class MyImputer(BaseEstimator, TransformerMixin):\n",
    "    def __init__(self):\n",
    "        pass\n",
    "    def fit(self, X):\n",
    "        return self\n",
    "    def transform(self, X):\n",
    "        gr=titanic_data.groupby(['Pclass','Sex'])\n",
    "        X['Age']=gr.Age.apply(lambda x: x.fillna(x.median()))\n",
    "        X['Fare']=gr.Fare.apply(lambda x: x.fillna(x.median()))\n",
    "        return X"
   ]
  },
  {
   "cell_type": "code",
   "execution_count": 10,
   "metadata": {},
   "outputs": [],
   "source": [
    "# Создание трансформатора для отбора определенных признаков\n",
    "class DataFrameSelectorNum(BaseEstimator, TransformerMixin):\n",
    "    def __init__(self, attr_names):\n",
    "        self.attr_names=attr_names\n",
    "    def fit(self, X):\n",
    "        return self\n",
    "    def transform(self, X):\n",
    "        return X[self.attr_names]"
   ]
  },
  {
   "cell_type": "code",
   "execution_count": 11,
   "metadata": {},
   "outputs": [],
   "source": [
    "from sklearn.pipeline import Pipeline"
   ]
  },
  {
   "cell_type": "code",
   "execution_count": 12,
   "metadata": {},
   "outputs": [],
   "source": [
    "#конвеер для числовых атрибутов\n",
    "list_num=['Pclass','Age','SibSp','Parch','Fare']\n",
    "num_pipeline=Pipeline([('selector',DataFrameSelectorNum(list_num)),('median', MyImputer()),('scale',MinMaxScaler())])\n",
    "# scale можно менять на мин макс или стандартизацию"
   ]
  },
  {
   "cell_type": "code",
   "execution_count": 196,
   "metadata": {},
   "outputs": [],
   "source": [
    "# далее создание конвеера для категориальных данных"
   ]
  },
  {
   "cell_type": "code",
   "execution_count": 15,
   "metadata": {},
   "outputs": [],
   "source": [
    "from sklearn.preprocessing import OneHotEncoder\n",
    "from sklearn.pipeline import FeatureUnion"
   ]
  },
  {
   "cell_type": "code",
   "execution_count": 16,
   "metadata": {},
   "outputs": [],
   "source": [
    "list_cat=['Embarked','Sex']\n",
    "cat_pipeline=Pipeline([('selector',DataFrameSelectorNum(list_cat)),\\\n",
    "                       ('moda', SimpleImputer(strategy='most_frequent')),\\\n",
    "                       ('encod',OneHotEncoder(sparse=False,drop='first'))])"
   ]
  },
  {
   "cell_type": "code",
   "execution_count": 15,
   "metadata": {},
   "outputs": [],
   "source": [
    "#Объеденение двух конвееров\n",
    "full_pipeline=FeatureUnion(transformer_list=[('num',num_pipeline),('cat',cat_pipeline)])"
   ]
  },
  {
   "cell_type": "code",
   "execution_count": 16,
   "metadata": {
    "collapsed": true
   },
   "outputs": [
    {
     "name": "stderr",
     "output_type": "stream",
     "text": [
      "C:\\Users\\papa\\Anaconda3\\lib\\site-packages\\ipykernel_launcher.py:8: SettingWithCopyWarning: \n",
      "A value is trying to be set on a copy of a slice from a DataFrame.\n",
      "Try using .loc[row_indexer,col_indexer] = value instead\n",
      "\n",
      "See the caveats in the documentation: http://pandas.pydata.org/pandas-docs/stable/user_guide/indexing.html#returning-a-view-versus-a-copy\n",
      "  \n",
      "C:\\Users\\papa\\Anaconda3\\lib\\site-packages\\ipykernel_launcher.py:9: SettingWithCopyWarning: \n",
      "A value is trying to be set on a copy of a slice from a DataFrame.\n",
      "Try using .loc[row_indexer,col_indexer] = value instead\n",
      "\n",
      "See the caveats in the documentation: http://pandas.pydata.org/pandas-docs/stable/user_guide/indexing.html#returning-a-view-versus-a-copy\n",
      "  if __name__ == '__main__':\n"
     ]
    }
   ],
   "source": [
    "X_train=full_pipeline.fit_transform(titanic_data)\n",
    "y_train=titanic_data['Survived']"
   ]
  },
  {
   "cell_type": "code",
   "execution_count": 18,
   "metadata": {
    "collapsed": true
   },
   "outputs": [
    {
     "name": "stderr",
     "output_type": "stream",
     "text": [
      "C:\\Users\\papa\\Anaconda3\\lib\\site-packages\\ipykernel_launcher.py:8: SettingWithCopyWarning: \n",
      "A value is trying to be set on a copy of a slice from a DataFrame.\n",
      "Try using .loc[row_indexer,col_indexer] = value instead\n",
      "\n",
      "See the caveats in the documentation: http://pandas.pydata.org/pandas-docs/stable/user_guide/indexing.html#returning-a-view-versus-a-copy\n",
      "  \n",
      "C:\\Users\\papa\\Anaconda3\\lib\\site-packages\\ipykernel_launcher.py:9: SettingWithCopyWarning: \n",
      "A value is trying to be set on a copy of a slice from a DataFrame.\n",
      "Try using .loc[row_indexer,col_indexer] = value instead\n",
      "\n",
      "See the caveats in the documentation: http://pandas.pydata.org/pandas-docs/stable/user_guide/indexing.html#returning-a-view-versus-a-copy\n",
      "  if __name__ == '__main__':\n"
     ]
    },
    {
     "data": {
      "text/plain": [
       "array([[1.        , 0.30169588, 0.        , ..., 1.        , 0.        ,\n",
       "        1.        ],\n",
       "       [1.        , 0.52971355, 0.125     , ..., 0.        , 1.        ,\n",
       "        0.        ],\n",
       "       [0.5       , 0.3587003 , 0.        , ..., 1.        , 0.        ,\n",
       "        1.        ],\n",
       "       ...,\n",
       "       [1.        , 0.29457033, 0.        , ..., 0.        , 1.        ,\n",
       "        1.        ],\n",
       "       [1.        , 0.47270913, 0.        , ..., 0.        , 1.        ,\n",
       "        1.        ],\n",
       "       [1.        , 0.24469146, 0.125     , ..., 0.        , 0.        ,\n",
       "        1.        ]])"
      ]
     },
     "execution_count": 18,
     "metadata": {},
     "output_type": "execute_result"
    }
   ],
   "source": [
    "X_test=full_pipeline.fit_transform(titanic_test)\n",
    "X_test"
   ]
  },
  {
   "cell_type": "code",
   "execution_count": null,
   "metadata": {},
   "outputs": [],
   "source": [
    "#Выбор моделей для предсказания \n",
    "#Так как данных не так много будем использовать проверку на кроссвалидации"
   ]
  },
  {
   "cell_type": "code",
   "execution_count": 16,
   "metadata": {},
   "outputs": [],
   "source": [
    "from sklearn.ensemble import RandomForestClassifier\n",
    "from sklearn.model_selection import cross_val_score\n",
    "from sklearn.model_selection import GridSearchCV"
   ]
  },
  {
   "cell_type": "code",
   "execution_count": 292,
   "metadata": {},
   "outputs": [],
   "source": [
    "rf_clf=RandomForestClassifier()"
   ]
  },
  {
   "cell_type": "code",
   "execution_count": 296,
   "metadata": {},
   "outputs": [],
   "source": [
    "parametrs={'n_estimators':range(5,20,5), 'max_depth':range(5,12,2),'min_samples_leaf':range(1,9,2), 'min_samples_split':range(2,30,4)}"
   ]
  },
  {
   "cell_type": "code",
   "execution_count": null,
   "metadata": {},
   "outputs": [],
   "source": [
    "#Сразу найдем лучшие параметры для RandomForestClassifier"
   ]
  },
  {
   "cell_type": "code",
   "execution_count": 297,
   "metadata": {},
   "outputs": [],
   "source": [
    "grid=GridSearchCV(rf_clf,parametrs,cv=StratifiedKFold(n_splits=4))"
   ]
  },
  {
   "cell_type": "code",
   "execution_count": 298,
   "metadata": {
    "collapsed": true
   },
   "outputs": [
    {
     "data": {
      "text/plain": [
       "GridSearchCV(cv=StratifiedKFold(n_splits=4, random_state=None, shuffle=False),\n",
       "             estimator=RandomForestClassifier(),\n",
       "             param_grid={'max_depth': range(5, 12, 2),\n",
       "                         'min_samples_leaf': range(1, 9, 2),\n",
       "                         'min_samples_split': range(2, 30, 4),\n",
       "                         'n_estimators': range(5, 20, 5)})"
      ]
     },
     "execution_count": 298,
     "metadata": {},
     "output_type": "execute_result"
    }
   ],
   "source": [
    "grid.fit(X_train,y_train)"
   ]
  },
  {
   "cell_type": "code",
   "execution_count": 300,
   "metadata": {},
   "outputs": [
    {
     "data": {
      "text/plain": [
       "RandomForestClassifier(max_depth=9, min_samples_split=14, n_estimators=15)"
      ]
     },
     "execution_count": 300,
     "metadata": {},
     "output_type": "execute_result"
    }
   ],
   "source": [
    "best_rf=grid.best_estimator_\n",
    "best_rf"
   ]
  },
  {
   "cell_type": "code",
   "execution_count": 301,
   "metadata": {},
   "outputs": [
    {
     "data": {
      "text/plain": [
       "0.8327851358985626"
      ]
     },
     "execution_count": 301,
     "metadata": {},
     "output_type": "execute_result"
    }
   ],
   "source": [
    "cross_val_score(best_rf, X_train, y_train, cv=5).mean()"
   ]
  },
  {
   "cell_type": "code",
   "execution_count": 303,
   "metadata": {},
   "outputs": [
    {
     "data": {
      "text/plain": [
       "array([0.11152562, 0.13799173, 0.0511989 , 0.03934529, 0.21147706,\n",
       "       0.0117053 , 0.02156683, 0.41518925])"
      ]
     },
     "execution_count": 303,
     "metadata": {},
     "output_type": "execute_result"
    }
   ],
   "source": [
    "best_rf.feature_importances_"
   ]
  },
  {
   "cell_type": "code",
   "execution_count": 17,
   "metadata": {},
   "outputs": [],
   "source": [
    "from sklearn.linear_model import LogisticRegression"
   ]
  },
  {
   "cell_type": "code",
   "execution_count": 18,
   "metadata": {},
   "outputs": [],
   "source": [
    "logreg = LogisticRegression(C=1)"
   ]
  },
  {
   "cell_type": "code",
   "execution_count": 357,
   "metadata": {},
   "outputs": [],
   "source": [
    "parametrs={'solver':['newton-cg', 'lbfgs', 'liblinear', 'sag', 'saga'],'penalty':['l1', 'l2', 'elasticnet']}"
   ]
  },
  {
   "cell_type": "code",
   "execution_count": 358,
   "metadata": {},
   "outputs": [],
   "source": [
    "grid=GridSearchCV(logreg,parametrs,cv=StratifiedKFold(n_splits=4))"
   ]
  },
  {
   "cell_type": "code",
   "execution_count": 359,
   "metadata": {
    "collapsed": true
   },
   "outputs": [
    {
     "name": "stderr",
     "output_type": "stream",
     "text": [
      "C:\\Users\\papa\\Anaconda3\\lib\\site-packages\\sklearn\\model_selection\\_validation.py:552: FitFailedWarning: Estimator fit failed. The score on this train-test partition for these parameters will be set to nan. Details: \n",
      "Traceback (most recent call last):\n",
      "  File \"C:\\Users\\papa\\Anaconda3\\lib\\site-packages\\sklearn\\model_selection\\_validation.py\", line 531, in _fit_and_score\n",
      "    estimator.fit(X_train, y_train, **fit_params)\n",
      "  File \"C:\\Users\\papa\\Anaconda3\\lib\\site-packages\\sklearn\\linear_model\\_logistic.py\", line 1304, in fit\n",
      "    solver = _check_solver(self.solver, self.penalty, self.dual)\n",
      "  File \"C:\\Users\\papa\\Anaconda3\\lib\\site-packages\\sklearn\\linear_model\\_logistic.py\", line 443, in _check_solver\n",
      "    \"got %s penalty.\" % (solver, penalty))\n",
      "ValueError: Solver newton-cg supports only 'l2' or 'none' penalties, got l1 penalty.\n",
      "\n",
      "  FitFailedWarning)\n",
      "C:\\Users\\papa\\Anaconda3\\lib\\site-packages\\sklearn\\model_selection\\_validation.py:552: FitFailedWarning: Estimator fit failed. The score on this train-test partition for these parameters will be set to nan. Details: \n",
      "Traceback (most recent call last):\n",
      "  File \"C:\\Users\\papa\\Anaconda3\\lib\\site-packages\\sklearn\\model_selection\\_validation.py\", line 531, in _fit_and_score\n",
      "    estimator.fit(X_train, y_train, **fit_params)\n",
      "  File \"C:\\Users\\papa\\Anaconda3\\lib\\site-packages\\sklearn\\linear_model\\_logistic.py\", line 1304, in fit\n",
      "    solver = _check_solver(self.solver, self.penalty, self.dual)\n",
      "  File \"C:\\Users\\papa\\Anaconda3\\lib\\site-packages\\sklearn\\linear_model\\_logistic.py\", line 443, in _check_solver\n",
      "    \"got %s penalty.\" % (solver, penalty))\n",
      "ValueError: Solver lbfgs supports only 'l2' or 'none' penalties, got l1 penalty.\n",
      "\n",
      "  FitFailedWarning)\n",
      "C:\\Users\\papa\\Anaconda3\\lib\\site-packages\\sklearn\\model_selection\\_validation.py:552: FitFailedWarning: Estimator fit failed. The score on this train-test partition for these parameters will be set to nan. Details: \n",
      "Traceback (most recent call last):\n",
      "  File \"C:\\Users\\papa\\Anaconda3\\lib\\site-packages\\sklearn\\model_selection\\_validation.py\", line 531, in _fit_and_score\n",
      "    estimator.fit(X_train, y_train, **fit_params)\n",
      "  File \"C:\\Users\\papa\\Anaconda3\\lib\\site-packages\\sklearn\\linear_model\\_logistic.py\", line 1304, in fit\n",
      "    solver = _check_solver(self.solver, self.penalty, self.dual)\n",
      "  File \"C:\\Users\\papa\\Anaconda3\\lib\\site-packages\\sklearn\\linear_model\\_logistic.py\", line 443, in _check_solver\n",
      "    \"got %s penalty.\" % (solver, penalty))\n",
      "ValueError: Solver sag supports only 'l2' or 'none' penalties, got l1 penalty.\n",
      "\n",
      "  FitFailedWarning)\n",
      "C:\\Users\\papa\\Anaconda3\\lib\\site-packages\\sklearn\\model_selection\\_validation.py:552: FitFailedWarning: Estimator fit failed. The score on this train-test partition for these parameters will be set to nan. Details: \n",
      "Traceback (most recent call last):\n",
      "  File \"C:\\Users\\papa\\Anaconda3\\lib\\site-packages\\sklearn\\model_selection\\_validation.py\", line 531, in _fit_and_score\n",
      "    estimator.fit(X_train, y_train, **fit_params)\n",
      "  File \"C:\\Users\\papa\\Anaconda3\\lib\\site-packages\\sklearn\\linear_model\\_logistic.py\", line 1304, in fit\n",
      "    solver = _check_solver(self.solver, self.penalty, self.dual)\n",
      "  File \"C:\\Users\\papa\\Anaconda3\\lib\\site-packages\\sklearn\\linear_model\\_logistic.py\", line 443, in _check_solver\n",
      "    \"got %s penalty.\" % (solver, penalty))\n",
      "ValueError: Solver newton-cg supports only 'l2' or 'none' penalties, got elasticnet penalty.\n",
      "\n",
      "  FitFailedWarning)\n",
      "C:\\Users\\papa\\Anaconda3\\lib\\site-packages\\sklearn\\model_selection\\_validation.py:552: FitFailedWarning: Estimator fit failed. The score on this train-test partition for these parameters will be set to nan. Details: \n",
      "Traceback (most recent call last):\n",
      "  File \"C:\\Users\\papa\\Anaconda3\\lib\\site-packages\\sklearn\\model_selection\\_validation.py\", line 531, in _fit_and_score\n",
      "    estimator.fit(X_train, y_train, **fit_params)\n",
      "  File \"C:\\Users\\papa\\Anaconda3\\lib\\site-packages\\sklearn\\linear_model\\_logistic.py\", line 1304, in fit\n",
      "    solver = _check_solver(self.solver, self.penalty, self.dual)\n",
      "  File \"C:\\Users\\papa\\Anaconda3\\lib\\site-packages\\sklearn\\linear_model\\_logistic.py\", line 443, in _check_solver\n",
      "    \"got %s penalty.\" % (solver, penalty))\n",
      "ValueError: Solver lbfgs supports only 'l2' or 'none' penalties, got elasticnet penalty.\n",
      "\n",
      "  FitFailedWarning)\n",
      "C:\\Users\\papa\\Anaconda3\\lib\\site-packages\\sklearn\\model_selection\\_validation.py:552: FitFailedWarning: Estimator fit failed. The score on this train-test partition for these parameters will be set to nan. Details: \n",
      "Traceback (most recent call last):\n",
      "  File \"C:\\Users\\papa\\Anaconda3\\lib\\site-packages\\sklearn\\model_selection\\_validation.py\", line 531, in _fit_and_score\n",
      "    estimator.fit(X_train, y_train, **fit_params)\n",
      "  File \"C:\\Users\\papa\\Anaconda3\\lib\\site-packages\\sklearn\\linear_model\\_logistic.py\", line 1304, in fit\n",
      "    solver = _check_solver(self.solver, self.penalty, self.dual)\n",
      "  File \"C:\\Users\\papa\\Anaconda3\\lib\\site-packages\\sklearn\\linear_model\\_logistic.py\", line 450, in _check_solver\n",
      "    \" got solver={}.\".format(solver))\n",
      "ValueError: Only 'saga' solver supports elasticnet penalty, got solver=liblinear.\n",
      "\n",
      "  FitFailedWarning)\n",
      "C:\\Users\\papa\\Anaconda3\\lib\\site-packages\\sklearn\\model_selection\\_validation.py:552: FitFailedWarning: Estimator fit failed. The score on this train-test partition for these parameters will be set to nan. Details: \n",
      "Traceback (most recent call last):\n",
      "  File \"C:\\Users\\papa\\Anaconda3\\lib\\site-packages\\sklearn\\model_selection\\_validation.py\", line 531, in _fit_and_score\n",
      "    estimator.fit(X_train, y_train, **fit_params)\n",
      "  File \"C:\\Users\\papa\\Anaconda3\\lib\\site-packages\\sklearn\\linear_model\\_logistic.py\", line 1304, in fit\n",
      "    solver = _check_solver(self.solver, self.penalty, self.dual)\n",
      "  File \"C:\\Users\\papa\\Anaconda3\\lib\\site-packages\\sklearn\\linear_model\\_logistic.py\", line 443, in _check_solver\n",
      "    \"got %s penalty.\" % (solver, penalty))\n",
      "ValueError: Solver sag supports only 'l2' or 'none' penalties, got elasticnet penalty.\n",
      "\n",
      "  FitFailedWarning)\n",
      "C:\\Users\\papa\\Anaconda3\\lib\\site-packages\\sklearn\\model_selection\\_validation.py:552: FitFailedWarning: Estimator fit failed. The score on this train-test partition for these parameters will be set to nan. Details: \n",
      "Traceback (most recent call last):\n",
      "  File \"C:\\Users\\papa\\Anaconda3\\lib\\site-packages\\sklearn\\model_selection\\_validation.py\", line 531, in _fit_and_score\n",
      "    estimator.fit(X_train, y_train, **fit_params)\n",
      "  File \"C:\\Users\\papa\\Anaconda3\\lib\\site-packages\\sklearn\\linear_model\\_logistic.py\", line 1313, in fit\n",
      "    \" got (l1_ratio=%r)\" % self.l1_ratio)\n",
      "ValueError: l1_ratio must be between 0 and 1; got (l1_ratio=None)\n",
      "\n",
      "  FitFailedWarning)\n"
     ]
    },
    {
     "data": {
      "text/plain": [
       "GridSearchCV(cv=StratifiedKFold(n_splits=4, random_state=None, shuffle=False),\n",
       "             estimator=LogisticRegression(C=1),\n",
       "             param_grid={'penalty': ['l1', 'l2', 'elasticnet'],\n",
       "                         'solver': ['newton-cg', 'lbfgs', 'liblinear', 'sag',\n",
       "                                    'saga']})"
      ]
     },
     "execution_count": 359,
     "metadata": {},
     "output_type": "execute_result"
    }
   ],
   "source": [
    "grid.fit(X_train,y_train)"
   ]
  },
  {
   "cell_type": "code",
   "execution_count": 360,
   "metadata": {},
   "outputs": [
    {
     "data": {
      "text/plain": [
       "LogisticRegression(C=1, penalty='l1', solver='liblinear')"
      ]
     },
     "execution_count": 360,
     "metadata": {},
     "output_type": "execute_result"
    }
   ],
   "source": [
    "best_log=grid.best_estimator_\n",
    "best_log"
   ]
  },
  {
   "cell_type": "code",
   "execution_count": 361,
   "metadata": {},
   "outputs": [
    {
     "data": {
      "text/plain": [
       "0.8013684012303057"
      ]
     },
     "execution_count": 361,
     "metadata": {},
     "output_type": "execute_result"
    }
   ],
   "source": [
    "cross_val_score(best_log, X_train, y_train, cv=5).mean()"
   ]
  },
  {
   "cell_type": "code",
   "execution_count": 19,
   "metadata": {},
   "outputs": [],
   "source": [
    "from sklearn.neighbors import KNeighborsClassifier"
   ]
  },
  {
   "cell_type": "code",
   "execution_count": 20,
   "metadata": {},
   "outputs": [],
   "source": [
    "knnclf = KNeighborsClassifier(n_neighbors=13)"
   ]
  },
  {
   "cell_type": "code",
   "execution_count": 21,
   "metadata": {},
   "outputs": [
    {
     "data": {
      "text/plain": [
       "0.8114556525014123"
      ]
     },
     "execution_count": 21,
     "metadata": {},
     "output_type": "execute_result"
    }
   ],
   "source": [
    "cross_val_score(knnclf, X_train, y_train, cv=5).mean()"
   ]
  },
  {
   "cell_type": "code",
   "execution_count": 22,
   "metadata": {},
   "outputs": [],
   "source": [
    "from sklearn.svm import LinearSVC"
   ]
  },
  {
   "cell_type": "code",
   "execution_count": 23,
   "metadata": {},
   "outputs": [],
   "source": [
    "svmclf = LinearSVC()"
   ]
  },
  {
   "cell_type": "code",
   "execution_count": 24,
   "metadata": {
    "collapsed": true
   },
   "outputs": [
    {
     "name": "stderr",
     "output_type": "stream",
     "text": [
      "C:\\Users\\papa\\Anaconda3\\lib\\site-packages\\sklearn\\svm\\_base.py:977: ConvergenceWarning: Liblinear failed to converge, increase the number of iterations.\n",
      "  \"the number of iterations.\", ConvergenceWarning)\n",
      "C:\\Users\\papa\\Anaconda3\\lib\\site-packages\\sklearn\\svm\\_base.py:977: ConvergenceWarning: Liblinear failed to converge, increase the number of iterations.\n",
      "  \"the number of iterations.\", ConvergenceWarning)\n",
      "C:\\Users\\papa\\Anaconda3\\lib\\site-packages\\sklearn\\svm\\_base.py:977: ConvergenceWarning: Liblinear failed to converge, increase the number of iterations.\n",
      "  \"the number of iterations.\", ConvergenceWarning)\n",
      "C:\\Users\\papa\\Anaconda3\\lib\\site-packages\\sklearn\\svm\\_base.py:977: ConvergenceWarning: Liblinear failed to converge, increase the number of iterations.\n",
      "  \"the number of iterations.\", ConvergenceWarning)\n",
      "C:\\Users\\papa\\Anaconda3\\lib\\site-packages\\sklearn\\svm\\_base.py:977: ConvergenceWarning: Liblinear failed to converge, increase the number of iterations.\n",
      "  \"the number of iterations.\", ConvergenceWarning)\n"
     ]
    },
    {
     "data": {
      "text/plain": [
       "0.7935032326909799"
      ]
     },
     "execution_count": 24,
     "metadata": {},
     "output_type": "execute_result"
    }
   ],
   "source": [
    "cross_val_score(svmclf, X_train, y_train, cv=5).mean()"
   ]
  },
  {
   "cell_type": "code",
   "execution_count": 23,
   "metadata": {},
   "outputs": [],
   "source": [
    "from sklearn.svm import SVC"
   ]
  },
  {
   "cell_type": "code",
   "execution_count": 434,
   "metadata": {},
   "outputs": [],
   "source": [
    "svcclf = SVC(gamma=0.14)"
   ]
  },
  {
   "cell_type": "code",
   "execution_count": 435,
   "metadata": {},
   "outputs": [
    {
     "data": {
      "text/plain": [
       "0.8249136902893728"
      ]
     },
     "execution_count": 435,
     "metadata": {},
     "output_type": "execute_result"
    }
   ],
   "source": [
    "cross_val_score(svcclf, X_train, y_train, cv=5).mean()"
   ]
  },
  {
   "cell_type": "code",
   "execution_count": 114,
   "metadata": {},
   "outputs": [],
   "source": [
    "from sklearn.ensemble import GradientBoostingClassifier"
   ]
  },
  {
   "cell_type": "code",
   "execution_count": 117,
   "metadata": {},
   "outputs": [],
   "source": [
    "clf=GradientBoostingClassifier(n_estimators=158)"
   ]
  },
  {
   "cell_type": "code",
   "execution_count": 118,
   "metadata": {},
   "outputs": [
    {
     "data": {
      "text/plain": [
       "0.8305504990270542"
      ]
     },
     "execution_count": 118,
     "metadata": {},
     "output_type": "execute_result"
    }
   ],
   "source": [
    "cross_val_score(clf, X_train, y_train, cv=5).mean()"
   ]
  },
  {
   "cell_type": "code",
   "execution_count": 120,
   "metadata": {},
   "outputs": [
    {
     "data": {
      "text/plain": [
       "GradientBoostingClassifier(n_estimators=158)"
      ]
     },
     "execution_count": 120,
     "metadata": {},
     "output_type": "execute_result"
    }
   ],
   "source": [
    "clf.fit(X_train,y_train)"
   ]
  },
  {
   "cell_type": "code",
   "execution_count": 121,
   "metadata": {},
   "outputs": [],
   "source": [
    "y_pred=clf.predict(X_test)\n"
   ]
  },
  {
   "cell_type": "code",
   "execution_count": 44,
   "metadata": {},
   "outputs": [],
   "source": [
    "parametrs={'n_estimators':range(120,180,20),'criterion':['friedman_mse','mae']}\n",
    "grid=GridSearchCV(clf,parametrs,cv=StratifiedKFold(n_splits=5))"
   ]
  },
  {
   "cell_type": "code",
   "execution_count": 45,
   "metadata": {},
   "outputs": [
    {
     "data": {
      "text/plain": [
       "GridSearchCV(cv=StratifiedKFold(n_splits=5, random_state=None, shuffle=False),\n",
       "             estimator=GradientBoostingClassifier(),\n",
       "             param_grid={'criterion': ['friedman_mse', 'mae'],\n",
       "                         'n_estimators': range(120, 180, 20)})"
      ]
     },
     "execution_count": 45,
     "metadata": {},
     "output_type": "execute_result"
    }
   ],
   "source": [
    "grid.fit(X_train,y_train)"
   ]
  },
  {
   "cell_type": "code",
   "execution_count": 46,
   "metadata": {},
   "outputs": [
    {
     "data": {
      "text/plain": [
       "GradientBoostingClassifier(n_estimators=140)"
      ]
     },
     "execution_count": 46,
     "metadata": {},
     "output_type": "execute_result"
    }
   ],
   "source": [
    "best_log=grid.best_estimator_\n",
    "best_log"
   ]
  },
  {
   "cell_type": "code",
   "execution_count": 47,
   "metadata": {},
   "outputs": [
    {
     "data": {
      "text/plain": [
       "0.8305504990270542"
      ]
     },
     "execution_count": 47,
     "metadata": {},
     "output_type": "execute_result"
    }
   ],
   "source": [
    "cross_val_score(best_log, X_train, y_train, cv=5).mean()"
   ]
  },
  {
   "cell_type": "code",
   "execution_count": null,
   "metadata": {},
   "outputs": [],
   "source": [
    "# Использование ансамблевых методов"
   ]
  },
  {
   "cell_type": "code",
   "execution_count": 25,
   "metadata": {},
   "outputs": [],
   "source": [
    "from sklearn.ensemble import VotingClassifier"
   ]
  },
  {
   "cell_type": "code",
   "execution_count": 27,
   "metadata": {},
   "outputs": [
    {
     "data": {
      "text/plain": [
       "0.8282970309459545"
      ]
     },
     "execution_count": 27,
     "metadata": {},
     "output_type": "execute_result"
    }
   ],
   "source": [
    "reg1 = KNeighborsClassifier(n_neighbors=13)\n",
    "reg2 = LogisticRegression(C=1)\n",
    "reg3 = GradientBoostingClassifier(n_estimators=158)\n",
    "#SVC(gamma=0.14)\n",
    "\n",
    "ereg = VotingClassifier(estimators=[('rf', reg1), ('lr', reg2), ('Gb',reg3)],voting='soft')\n",
    "cross_val_score(ereg, X_train, y_train, cv=5).mean()"
   ]
  },
  {
   "cell_type": "code",
   "execution_count": 30,
   "metadata": {},
   "outputs": [],
   "source": [
    "from sklearn.ensemble import AdaBoostClassifier\n",
    "from sklearn.tree import DecisionTreeClassifier"
   ]
  },
  {
   "cell_type": "code",
   "execution_count": 31,
   "metadata": {},
   "outputs": [],
   "source": [
    "ada_clf=AdaBoostClassifier(DecisionTreeClassifier(max_depth=1),n_estimators=80)"
   ]
  },
  {
   "cell_type": "code",
   "execution_count": 32,
   "metadata": {},
   "outputs": [
    {
     "data": {
      "text/plain": [
       "0.8215931203314293"
      ]
     },
     "execution_count": 32,
     "metadata": {},
     "output_type": "execute_result"
    }
   ],
   "source": [
    "cross_val_score(ada_clf, X_train, y_train, cv=5).mean()"
   ]
  },
  {
   "cell_type": "code",
   "execution_count": 49,
   "metadata": {},
   "outputs": [],
   "source": [
    "from sklearn.ensemble import StackingClassifier"
   ]
  },
  {
   "cell_type": "code",
   "execution_count": null,
   "metadata": {},
   "outputs": [],
   "source": [
    "('svc', SVC(gamma=0.14))"
   ]
  },
  {
   "cell_type": "code",
   "execution_count": 61,
   "metadata": {},
   "outputs": [],
   "source": [
    "estimators = [\n",
    "             ('knn', KNeighborsClassifier(n_neighbors=13)),\n",
    "             ('log', GradientBoostingClassifier(n_estimators=140))]"
   ]
  },
  {
   "cell_type": "code",
   "execution_count": 62,
   "metadata": {},
   "outputs": [],
   "source": [
    "clf = StackingClassifier(\n",
    "    estimators=estimators, final_estimator=LogisticRegression(C=1))"
   ]
  },
  {
   "cell_type": "code",
   "execution_count": 63,
   "metadata": {
    "collapsed": true
   },
   "outputs": [
    {
     "data": {
      "text/plain": [
       "StackingClassifier(estimators=[('knn', KNeighborsClassifier(n_neighbors=13)),\n",
       "                               ('log',\n",
       "                                GradientBoostingClassifier(n_estimators=140))],\n",
       "                   final_estimator=LogisticRegression(C=1))"
      ]
     },
     "execution_count": 63,
     "metadata": {},
     "output_type": "execute_result"
    }
   ],
   "source": [
    "clf.fit(X_train, y_train)"
   ]
  },
  {
   "cell_type": "code",
   "execution_count": 64,
   "metadata": {},
   "outputs": [
    {
     "data": {
      "text/plain": [
       "0.8978675645342312"
      ]
     },
     "execution_count": 64,
     "metadata": {},
     "output_type": "execute_result"
    }
   ],
   "source": [
    "clf.score(X_train, y_train)"
   ]
  },
  {
   "cell_type": "code",
   "execution_count": 65,
   "metadata": {},
   "outputs": [
    {
     "data": {
      "text/plain": [
       "0.8339024543343168"
      ]
     },
     "execution_count": 65,
     "metadata": {},
     "output_type": "execute_result"
    }
   ],
   "source": [
    "cross_val_score(clf, X_train, y_train, cv=5).mean()"
   ]
  },
  {
   "cell_type": "code",
   "execution_count": 107,
   "metadata": {
    "collapsed": true
   },
   "outputs": [
    {
     "data": {
      "text/plain": [
       "array([0, 0, 0, 0, 0, 0, 0, 1, 1, 0, 1, 0, 1, 0, 1, 1, 1, 0, 1, 0, 0, 0,\n",
       "       1, 1, 1, 0, 1, 0, 0, 0, 0, 0, 1, 0, 1, 0, 1, 1, 0, 0, 0, 0, 0, 1,\n",
       "       1, 0, 0, 0, 1, 1, 1, 0, 1, 1, 0, 0, 0, 0, 1, 1, 0, 0, 0, 1, 0, 1,\n",
       "       1, 0, 0, 1, 0, 0, 0, 0, 1, 0, 0, 1, 1, 1, 0, 0, 0, 0, 0, 0, 1, 1,\n",
       "       1, 0, 0, 0, 1, 0, 0, 0, 1, 0, 1, 0, 1, 0, 0, 0, 0, 0, 0, 0, 0, 0,\n",
       "       0, 1, 1, 1, 1, 0, 0, 0, 0, 1, 1, 0, 1, 0, 0, 1, 0, 0, 0, 0, 0, 0,\n",
       "       0, 0, 0, 0, 0, 0, 0, 0, 0, 1, 0, 0, 0, 0, 0, 1, 0, 0, 1, 0, 0, 0,\n",
       "       0, 0, 1, 0, 0, 0, 0, 0, 1, 0, 1, 0, 1, 0, 1, 0, 0, 1, 1, 0, 0, 1,\n",
       "       1, 0, 1, 0, 0, 0, 1, 1, 1, 0, 1, 0, 0, 0, 0, 0, 0, 1, 0, 0, 0, 0,\n",
       "       0, 0, 1, 0, 0, 1, 0, 1, 1, 0, 1, 0, 0, 0, 0, 1, 1, 1, 1, 0, 1, 0,\n",
       "       1, 0, 1, 0, 1, 1, 0, 0, 0, 0, 0, 1, 0, 1, 0, 0, 0, 1, 1, 1, 1, 1,\n",
       "       0, 0, 0, 0, 1, 0, 1, 0, 1, 0, 0, 0, 0, 0, 0, 0, 1, 0, 0, 1, 1, 0,\n",
       "       0, 0, 0, 0, 0, 0, 0, 0, 1, 0, 0, 1, 0, 0, 1, 0, 0, 0, 1, 1, 0, 0,\n",
       "       0, 0, 0, 0, 1, 1, 0, 0, 0, 0, 1, 1, 1, 0, 0, 0, 0, 0, 1, 1, 1, 0,\n",
       "       0, 0, 0, 0, 0, 1, 1, 1, 0, 0, 0, 0, 0, 0, 0, 0, 1, 0, 1, 0, 0, 0,\n",
       "       1, 0, 0, 1, 0, 0, 0, 0, 0, 0, 1, 0, 0, 1, 0, 0, 0, 1, 1, 1, 1, 0,\n",
       "       0, 0, 1, 0, 1, 0, 0, 1, 0, 1, 1, 0, 1, 0, 0, 0, 1, 0, 0, 1, 0, 0,\n",
       "       1, 1, 0, 0, 0, 0, 0, 1, 1, 0, 0, 1, 1, 0, 0, 0, 1, 1, 0, 0, 0, 1,\n",
       "       0, 1, 0, 0, 1, 0, 1, 0, 0, 0, 0, 1, 1, 0, 1, 1, 0, 0, 1, 0, 0, 0],\n",
       "      dtype=int64)"
      ]
     },
     "execution_count": 107,
     "metadata": {},
     "output_type": "execute_result"
    }
   ],
   "source": [
    "y_predict=clf.predict(X_test)\n",
    "y_predict"
   ]
  },
  {
   "cell_type": "code",
   "execution_count": 126,
   "metadata": {},
   "outputs": [],
   "source": [
    "titanic_submissions=pd.DataFrame({'PassengerId':titanic_test['PassengerId'],'Survived':y_pred})"
   ]
  },
  {
   "cell_type": "code",
   "execution_count": 127,
   "metadata": {},
   "outputs": [],
   "source": [
    "titanic_submissions.set_index('PassengerId', inplace=True)"
   ]
  },
  {
   "cell_type": "code",
   "execution_count": 129,
   "metadata": {},
   "outputs": [],
   "source": [
    "titanic_submissions.to_csv('titanic_submissions_GBC.csv')"
   ]
  },
  {
   "cell_type": "code",
   "execution_count": null,
   "metadata": {},
   "outputs": [],
   "source": [
    "# Нейронная сеть на основе keras"
   ]
  },
  {
   "cell_type": "code",
   "execution_count": 22,
   "metadata": {},
   "outputs": [
    {
     "name": "stderr",
     "output_type": "stream",
     "text": [
      "Using TensorFlow backend.\n"
     ]
    }
   ],
   "source": [
    "import keras\n",
    "from keras import models\n",
    "from keras import layers\n",
    "from keras import optimizers\n",
    "from sklearn.model_selection import StratifiedShuffleSplit"
   ]
  },
  {
   "cell_type": "code",
   "execution_count": 23,
   "metadata": {},
   "outputs": [
    {
     "data": {
      "text/plain": [
       "(891, 8)"
      ]
     },
     "execution_count": 23,
     "metadata": {},
     "output_type": "execute_result"
    }
   ],
   "source": [
    "X_train.shape"
   ]
  },
  {
   "cell_type": "code",
   "execution_count": 24,
   "metadata": {},
   "outputs": [],
   "source": [
    "# Разобьем датасет на обучающие и тестовые данные с использованием StratifiedShuffleSplit  \n",
    "skf = StratifiedShuffleSplit(n_splits=1,test_size=0.3)\n",
    "for train_index, test_index in skf.split(X_train, y_train):\n",
    "    X_train_train, X_train_test = X_train[train_index], X_train[test_index]\n",
    "    y_train_train, y_train_test = y_train[train_index], y_train[test_index]"
   ]
  },
  {
   "cell_type": "code",
   "execution_count": 353,
   "metadata": {},
   "outputs": [],
   "source": [
    "opt = keras.optimizers.Adam(learning_rate=0.01)\n",
    "model=models.Sequential()\n",
    "model.add(layers.Dense(6, activation='relu',\\\n",
    "              kernel_regularizer=keras.regularizers.l2(0.01),input_shape=(8,)))\n",
    "model.add(layers.Dense(6, activation='relu',\\\n",
    "              kernel_regularizer=keras.regularizers.l2(0.01)))\n",
    "model.add(layers.Dense(1, activation='sigmoid'))\n",
    "model.compile(optimizer=opt,\n",
    "              loss='binary_crossentropy',\n",
    "              metrics=['accuracy'])"
   ]
  },
  {
   "cell_type": "code",
   "execution_count": 354,
   "metadata": {
    "collapsed": true
   },
   "outputs": [
    {
     "name": "stdout",
     "output_type": "stream",
     "text": [
      "Train on 623 samples, validate on 268 samples\n",
      "Epoch 1/400\n",
      "623/623 [==============================] - 1s 2ms/step - loss: 0.8077 - accuracy: 0.6116 - val_loss: 0.7984 - val_accuracy: 0.6157\n",
      "Epoch 2/400\n",
      "623/623 [==============================] - 0s 16us/step - loss: 0.7934 - accuracy: 0.6164 - val_loss: 0.7815 - val_accuracy: 0.6157\n",
      "Epoch 3/400\n",
      "623/623 [==============================] - 0s 10us/step - loss: 0.7770 - accuracy: 0.6164 - val_loss: 0.7647 - val_accuracy: 0.6157\n",
      "Epoch 4/400\n",
      "623/623 [==============================] - 0s 10us/step - loss: 0.7604 - accuracy: 0.6164 - val_loss: 0.7487 - val_accuracy: 0.6157\n",
      "Epoch 5/400\n",
      "623/623 [==============================] - 0s 11us/step - loss: 0.7442 - accuracy: 0.6164 - val_loss: 0.7350 - val_accuracy: 0.6157\n",
      "Epoch 6/400\n",
      "623/623 [==============================] - 0s 10us/step - loss: 0.7298 - accuracy: 0.6164 - val_loss: 0.7228 - val_accuracy: 0.6157\n",
      "Epoch 7/400\n",
      "623/623 [==============================] - 0s 10us/step - loss: 0.7175 - accuracy: 0.6164 - val_loss: 0.7116 - val_accuracy: 0.6157\n",
      "Epoch 8/400\n",
      "623/623 [==============================] - 0s 11us/step - loss: 0.7069 - accuracy: 0.6164 - val_loss: 0.7011 - val_accuracy: 0.6157\n",
      "Epoch 9/400\n",
      "623/623 [==============================] - 0s 10us/step - loss: 0.6970 - accuracy: 0.6164 - val_loss: 0.6905 - val_accuracy: 0.6157\n",
      "Epoch 10/400\n",
      "623/623 [==============================] - 0s 10us/step - loss: 0.6868 - accuracy: 0.6164 - val_loss: 0.6799 - val_accuracy: 0.6157\n",
      "Epoch 11/400\n",
      "623/623 [==============================] - 0s 8us/step - loss: 0.6764 - accuracy: 0.6164 - val_loss: 0.6692 - val_accuracy: 0.6157\n",
      "Epoch 12/400\n",
      "623/623 [==============================] - 0s 10us/step - loss: 0.6657 - accuracy: 0.6164 - val_loss: 0.6585 - val_accuracy: 0.6231\n",
      "Epoch 13/400\n",
      "623/623 [==============================] - 0s 11us/step - loss: 0.6551 - accuracy: 0.6196 - val_loss: 0.6475 - val_accuracy: 0.6381\n",
      "Epoch 14/400\n",
      "623/623 [==============================] - 0s 10us/step - loss: 0.6443 - accuracy: 0.6485 - val_loss: 0.6366 - val_accuracy: 0.6679\n",
      "Epoch 15/400\n",
      "623/623 [==============================] - 0s 10us/step - loss: 0.6337 - accuracy: 0.6934 - val_loss: 0.6261 - val_accuracy: 0.6940\n",
      "Epoch 16/400\n",
      "623/623 [==============================] - 0s 11us/step - loss: 0.6234 - accuracy: 0.7255 - val_loss: 0.6151 - val_accuracy: 0.6940\n",
      "Epoch 17/400\n",
      "623/623 [==============================] - 0s 10us/step - loss: 0.6133 - accuracy: 0.7255 - val_loss: 0.6041 - val_accuracy: 0.6978\n",
      "Epoch 18/400\n",
      "623/623 [==============================] - 0s 11us/step - loss: 0.6036 - accuracy: 0.7319 - val_loss: 0.5928 - val_accuracy: 0.7127\n",
      "Epoch 19/400\n",
      "623/623 [==============================] - 0s 13us/step - loss: 0.5941 - accuracy: 0.7512 - val_loss: 0.5817 - val_accuracy: 0.7649\n",
      "Epoch 20/400\n",
      "623/623 [==============================] - 0s 16us/step - loss: 0.5850 - accuracy: 0.7753 - val_loss: 0.5715 - val_accuracy: 0.7761\n",
      "Epoch 21/400\n",
      "623/623 [==============================] - 0s 8us/step - loss: 0.5766 - accuracy: 0.7833 - val_loss: 0.5616 - val_accuracy: 0.7799\n",
      "Epoch 22/400\n",
      "623/623 [==============================] - 0s 10us/step - loss: 0.5688 - accuracy: 0.7865 - val_loss: 0.5515 - val_accuracy: 0.7799\n",
      "Epoch 23/400\n",
      "623/623 [==============================] - 0s 13us/step - loss: 0.5613 - accuracy: 0.7849 - val_loss: 0.5419 - val_accuracy: 0.7799\n",
      "Epoch 24/400\n",
      "623/623 [==============================] - 0s 11us/step - loss: 0.5542 - accuracy: 0.7817 - val_loss: 0.5327 - val_accuracy: 0.7761\n",
      "Epoch 25/400\n",
      "623/623 [==============================] - 0s 10us/step - loss: 0.5475 - accuracy: 0.7769 - val_loss: 0.5242 - val_accuracy: 0.8284\n",
      "Epoch 26/400\n",
      "623/623 [==============================] - 0s 10us/step - loss: 0.5416 - accuracy: 0.7881 - val_loss: 0.5168 - val_accuracy: 0.8246\n",
      "Epoch 27/400\n",
      "623/623 [==============================] - 0s 10us/step - loss: 0.5367 - accuracy: 0.7801 - val_loss: 0.5109 - val_accuracy: 0.8097\n",
      "Epoch 28/400\n",
      "623/623 [==============================] - 0s 11us/step - loss: 0.5325 - accuracy: 0.7833 - val_loss: 0.5062 - val_accuracy: 0.8134\n",
      "Epoch 29/400\n",
      "623/623 [==============================] - 0s 10us/step - loss: 0.5288 - accuracy: 0.7833 - val_loss: 0.5033 - val_accuracy: 0.8134\n",
      "Epoch 30/400\n",
      "623/623 [==============================] - 0s 8us/step - loss: 0.5252 - accuracy: 0.7833 - val_loss: 0.5016 - val_accuracy: 0.8172\n",
      "Epoch 31/400\n",
      "623/623 [==============================] - 0s 10us/step - loss: 0.5218 - accuracy: 0.7801 - val_loss: 0.5003 - val_accuracy: 0.8097\n",
      "Epoch 32/400\n",
      "623/623 [==============================] - 0s 13us/step - loss: 0.5187 - accuracy: 0.7865 - val_loss: 0.4990 - val_accuracy: 0.8097\n",
      "Epoch 33/400\n",
      "623/623 [==============================] - 0s 10us/step - loss: 0.5156 - accuracy: 0.7865 - val_loss: 0.4976 - val_accuracy: 0.8097\n",
      "Epoch 34/400\n",
      "623/623 [==============================] - 0s 8us/step - loss: 0.5126 - accuracy: 0.7849 - val_loss: 0.4964 - val_accuracy: 0.8097\n",
      "Epoch 35/400\n",
      "623/623 [==============================] - 0s 8us/step - loss: 0.5100 - accuracy: 0.7865 - val_loss: 0.4958 - val_accuracy: 0.8134\n",
      "Epoch 36/400\n",
      "623/623 [==============================] - 0s 13us/step - loss: 0.5078 - accuracy: 0.7929 - val_loss: 0.4956 - val_accuracy: 0.8172\n",
      "Epoch 37/400\n",
      "623/623 [==============================] - 0s 10us/step - loss: 0.5058 - accuracy: 0.7994 - val_loss: 0.4958 - val_accuracy: 0.8172\n",
      "Epoch 38/400\n",
      "623/623 [==============================] - 0s 8us/step - loss: 0.5038 - accuracy: 0.8058 - val_loss: 0.4961 - val_accuracy: 0.8134\n",
      "Epoch 39/400\n",
      "623/623 [==============================] - 0s 10us/step - loss: 0.5020 - accuracy: 0.8058 - val_loss: 0.4963 - val_accuracy: 0.8097\n",
      "Epoch 40/400\n",
      "623/623 [==============================] - 0s 16us/step - loss: 0.5003 - accuracy: 0.8090 - val_loss: 0.4960 - val_accuracy: 0.8134\n",
      "Epoch 41/400\n",
      "623/623 [==============================] - 0s 10us/step - loss: 0.4987 - accuracy: 0.8090 - val_loss: 0.4951 - val_accuracy: 0.8209\n",
      "Epoch 42/400\n",
      "623/623 [==============================] - 0s 6us/step - loss: 0.4970 - accuracy: 0.8106 - val_loss: 0.4939 - val_accuracy: 0.8246\n",
      "Epoch 43/400\n",
      "623/623 [==============================] - 0s 10us/step - loss: 0.4954 - accuracy: 0.8122 - val_loss: 0.4926 - val_accuracy: 0.8209\n",
      "Epoch 44/400\n",
      "623/623 [==============================] - 0s 8us/step - loss: 0.4938 - accuracy: 0.8106 - val_loss: 0.4913 - val_accuracy: 0.8172\n",
      "Epoch 45/400\n",
      "623/623 [==============================] - 0s 13us/step - loss: 0.4922 - accuracy: 0.8122 - val_loss: 0.4902 - val_accuracy: 0.8172\n",
      "Epoch 46/400\n",
      "623/623 [==============================] - 0s 10us/step - loss: 0.4908 - accuracy: 0.8138 - val_loss: 0.4891 - val_accuracy: 0.8209\n",
      "Epoch 47/400\n",
      "623/623 [==============================] - 0s 10us/step - loss: 0.4895 - accuracy: 0.8154 - val_loss: 0.4879 - val_accuracy: 0.8209\n",
      "Epoch 48/400\n",
      "623/623 [==============================] - 0s 10us/step - loss: 0.4884 - accuracy: 0.8138 - val_loss: 0.4864 - val_accuracy: 0.8172\n",
      "Epoch 49/400\n",
      "623/623 [==============================] - 0s 10us/step - loss: 0.4873 - accuracy: 0.8138 - val_loss: 0.4850 - val_accuracy: 0.8172\n",
      "Epoch 50/400\n",
      "623/623 [==============================] - 0s 8us/step - loss: 0.4863 - accuracy: 0.8138 - val_loss: 0.4840 - val_accuracy: 0.8209\n",
      "Epoch 51/400\n",
      "623/623 [==============================] - 0s 10us/step - loss: 0.4853 - accuracy: 0.8170 - val_loss: 0.4832 - val_accuracy: 0.8246\n",
      "Epoch 52/400\n",
      "623/623 [==============================] - 0s 10us/step - loss: 0.4844 - accuracy: 0.8170 - val_loss: 0.4828 - val_accuracy: 0.8209\n",
      "Epoch 53/400\n",
      "623/623 [==============================] - 0s 8us/step - loss: 0.4834 - accuracy: 0.8186 - val_loss: 0.4825 - val_accuracy: 0.8209\n",
      "Epoch 54/400\n",
      "623/623 [==============================] - 0s 8us/step - loss: 0.4826 - accuracy: 0.8202 - val_loss: 0.4822 - val_accuracy: 0.8209\n",
      "Epoch 55/400\n",
      "623/623 [==============================] - 0s 10us/step - loss: 0.4818 - accuracy: 0.8202 - val_loss: 0.4818 - val_accuracy: 0.8246\n",
      "Epoch 56/400\n",
      "623/623 [==============================] - 0s 11us/step - loss: 0.4811 - accuracy: 0.8218 - val_loss: 0.4815 - val_accuracy: 0.8246\n",
      "Epoch 57/400\n",
      "623/623 [==============================] - 0s 8us/step - loss: 0.4804 - accuracy: 0.8234 - val_loss: 0.4814 - val_accuracy: 0.8246\n"
     ]
    },
    {
     "name": "stdout",
     "output_type": "stream",
     "text": [
      "Epoch 58/400\n",
      "623/623 [==============================] - 0s 11us/step - loss: 0.4798 - accuracy: 0.8234 - val_loss: 0.4815 - val_accuracy: 0.8246\n",
      "Epoch 59/400\n",
      "623/623 [==============================] - 0s 11us/step - loss: 0.4792 - accuracy: 0.8218 - val_loss: 0.4815 - val_accuracy: 0.8246\n",
      "Epoch 60/400\n",
      "623/623 [==============================] - 0s 10us/step - loss: 0.4786 - accuracy: 0.8218 - val_loss: 0.4815 - val_accuracy: 0.8246\n",
      "Epoch 61/400\n",
      "623/623 [==============================] - 0s 13us/step - loss: 0.4780 - accuracy: 0.8218 - val_loss: 0.4812 - val_accuracy: 0.8284\n",
      "Epoch 62/400\n",
      "623/623 [==============================] - 0s 10us/step - loss: 0.4775 - accuracy: 0.8218 - val_loss: 0.4807 - val_accuracy: 0.8284\n",
      "Epoch 63/400\n",
      "623/623 [==============================] - 0s 8us/step - loss: 0.4770 - accuracy: 0.8218 - val_loss: 0.4802 - val_accuracy: 0.8246\n",
      "Epoch 64/400\n",
      "623/623 [==============================] - 0s 16us/step - loss: 0.4766 - accuracy: 0.8218 - val_loss: 0.4798 - val_accuracy: 0.8246\n",
      "Epoch 65/400\n",
      "623/623 [==============================] - 0s 11us/step - loss: 0.4761 - accuracy: 0.8218 - val_loss: 0.4793 - val_accuracy: 0.8246\n",
      "Epoch 66/400\n",
      "623/623 [==============================] - 0s 10us/step - loss: 0.4757 - accuracy: 0.8218 - val_loss: 0.4787 - val_accuracy: 0.8284\n",
      "Epoch 67/400\n",
      "623/623 [==============================] - 0s 11us/step - loss: 0.4753 - accuracy: 0.8202 - val_loss: 0.4779 - val_accuracy: 0.8246\n",
      "Epoch 68/400\n",
      "623/623 [==============================] - 0s 10us/step - loss: 0.4749 - accuracy: 0.8186 - val_loss: 0.4772 - val_accuracy: 0.8284\n",
      "Epoch 69/400\n",
      "623/623 [==============================] - 0s 8us/step - loss: 0.4745 - accuracy: 0.8186 - val_loss: 0.4765 - val_accuracy: 0.8284\n",
      "Epoch 70/400\n",
      "623/623 [==============================] - 0s 11us/step - loss: 0.4741 - accuracy: 0.8186 - val_loss: 0.4760 - val_accuracy: 0.8246\n",
      "Epoch 71/400\n",
      "623/623 [==============================] - 0s 10us/step - loss: 0.4738 - accuracy: 0.8186 - val_loss: 0.4756 - val_accuracy: 0.8209\n",
      "Epoch 72/400\n",
      "623/623 [==============================] - 0s 8us/step - loss: 0.4734 - accuracy: 0.8186 - val_loss: 0.4753 - val_accuracy: 0.8209\n",
      "Epoch 73/400\n",
      "623/623 [==============================] - 0s 11us/step - loss: 0.4731 - accuracy: 0.8218 - val_loss: 0.4751 - val_accuracy: 0.8246\n",
      "Epoch 74/400\n",
      "623/623 [==============================] - 0s 8us/step - loss: 0.4728 - accuracy: 0.8234 - val_loss: 0.4749 - val_accuracy: 0.8246\n",
      "Epoch 75/400\n",
      "623/623 [==============================] - 0s 11us/step - loss: 0.4725 - accuracy: 0.8234 - val_loss: 0.4746 - val_accuracy: 0.8246\n",
      "Epoch 76/400\n",
      "623/623 [==============================] - 0s 10us/step - loss: 0.4722 - accuracy: 0.8234 - val_loss: 0.4745 - val_accuracy: 0.8246\n",
      "Epoch 77/400\n",
      "623/623 [==============================] - 0s 10us/step - loss: 0.4719 - accuracy: 0.8234 - val_loss: 0.4745 - val_accuracy: 0.8246\n",
      "Epoch 78/400\n",
      "623/623 [==============================] - 0s 8us/step - loss: 0.4717 - accuracy: 0.8234 - val_loss: 0.4744 - val_accuracy: 0.8246\n",
      "Epoch 79/400\n",
      "623/623 [==============================] - 0s 11us/step - loss: 0.4714 - accuracy: 0.8234 - val_loss: 0.4742 - val_accuracy: 0.8246\n",
      "Epoch 80/400\n",
      "623/623 [==============================] - 0s 10us/step - loss: 0.4712 - accuracy: 0.8234 - val_loss: 0.4741 - val_accuracy: 0.8246\n",
      "Epoch 81/400\n",
      "623/623 [==============================] - 0s 18us/step - loss: 0.4709 - accuracy: 0.8234 - val_loss: 0.4740 - val_accuracy: 0.8246\n",
      "Epoch 82/400\n",
      "623/623 [==============================] - 0s 13us/step - loss: 0.4707 - accuracy: 0.8234 - val_loss: 0.4739 - val_accuracy: 0.8246\n",
      "Epoch 83/400\n",
      "623/623 [==============================] - 0s 10us/step - loss: 0.4704 - accuracy: 0.8234 - val_loss: 0.4739 - val_accuracy: 0.8246\n",
      "Epoch 84/400\n",
      "623/623 [==============================] - 0s 14us/step - loss: 0.4702 - accuracy: 0.8234 - val_loss: 0.4737 - val_accuracy: 0.8246\n",
      "Epoch 85/400\n",
      "623/623 [==============================] - 0s 8us/step - loss: 0.4700 - accuracy: 0.8234 - val_loss: 0.4734 - val_accuracy: 0.8246\n",
      "Epoch 86/400\n",
      "623/623 [==============================] - 0s 10us/step - loss: 0.4698 - accuracy: 0.8218 - val_loss: 0.4731 - val_accuracy: 0.8246\n",
      "Epoch 87/400\n",
      "623/623 [==============================] - 0s 10us/step - loss: 0.4696 - accuracy: 0.8202 - val_loss: 0.4729 - val_accuracy: 0.8246\n",
      "Epoch 88/400\n",
      "623/623 [==============================] - 0s 10us/step - loss: 0.4694 - accuracy: 0.8202 - val_loss: 0.4726 - val_accuracy: 0.8246\n",
      "Epoch 89/400\n",
      "623/623 [==============================] - 0s 11us/step - loss: 0.4692 - accuracy: 0.8202 - val_loss: 0.4724 - val_accuracy: 0.8246\n",
      "Epoch 90/400\n",
      "623/623 [==============================] - 0s 13us/step - loss: 0.4690 - accuracy: 0.8202 - val_loss: 0.4721 - val_accuracy: 0.8246\n",
      "Epoch 91/400\n",
      "623/623 [==============================] - 0s 11us/step - loss: 0.4688 - accuracy: 0.8202 - val_loss: 0.4719 - val_accuracy: 0.8246\n",
      "Epoch 92/400\n",
      "623/623 [==============================] - 0s 18us/step - loss: 0.4686 - accuracy: 0.8202 - val_loss: 0.4718 - val_accuracy: 0.8246\n",
      "Epoch 93/400\n",
      "623/623 [==============================] - 0s 10us/step - loss: 0.4684 - accuracy: 0.8202 - val_loss: 0.4717 - val_accuracy: 0.8246\n",
      "Epoch 94/400\n",
      "623/623 [==============================] - 0s 14us/step - loss: 0.4682 - accuracy: 0.8186 - val_loss: 0.4716 - val_accuracy: 0.8246\n",
      "Epoch 95/400\n",
      "623/623 [==============================] - 0s 8us/step - loss: 0.4681 - accuracy: 0.8202 - val_loss: 0.4715 - val_accuracy: 0.8246\n",
      "Epoch 96/400\n",
      "623/623 [==============================] - 0s 11us/step - loss: 0.4679 - accuracy: 0.8202 - val_loss: 0.4713 - val_accuracy: 0.8246\n",
      "Epoch 97/400\n",
      "623/623 [==============================] - 0s 11us/step - loss: 0.4677 - accuracy: 0.8202 - val_loss: 0.4712 - val_accuracy: 0.8246\n",
      "Epoch 98/400\n",
      "623/623 [==============================] - 0s 11us/step - loss: 0.4676 - accuracy: 0.8170 - val_loss: 0.4711 - val_accuracy: 0.8246\n",
      "Epoch 99/400\n",
      "623/623 [==============================] - 0s 10us/step - loss: 0.4674 - accuracy: 0.8170 - val_loss: 0.4710 - val_accuracy: 0.8246\n",
      "Epoch 100/400\n",
      "623/623 [==============================] - 0s 10us/step - loss: 0.4672 - accuracy: 0.8186 - val_loss: 0.4709 - val_accuracy: 0.8246\n",
      "Epoch 101/400\n",
      "623/623 [==============================] - 0s 11us/step - loss: 0.4671 - accuracy: 0.8186 - val_loss: 0.4707 - val_accuracy: 0.8246\n",
      "Epoch 102/400\n",
      "623/623 [==============================] - 0s 10us/step - loss: 0.4669 - accuracy: 0.8186 - val_loss: 0.4706 - val_accuracy: 0.8246\n",
      "Epoch 103/400\n",
      "623/623 [==============================] - 0s 13us/step - loss: 0.4668 - accuracy: 0.8186 - val_loss: 0.4704 - val_accuracy: 0.8246\n",
      "Epoch 104/400\n",
      "623/623 [==============================] - 0s 10us/step - loss: 0.4666 - accuracy: 0.8186 - val_loss: 0.4701 - val_accuracy: 0.8246\n",
      "Epoch 105/400\n",
      "623/623 [==============================] - 0s 10us/step - loss: 0.4665 - accuracy: 0.8186 - val_loss: 0.4700 - val_accuracy: 0.8246\n",
      "Epoch 106/400\n",
      "623/623 [==============================] - 0s 11us/step - loss: 0.4663 - accuracy: 0.8186 - val_loss: 0.4698 - val_accuracy: 0.8246\n",
      "Epoch 107/400\n",
      "623/623 [==============================] - 0s 10us/step - loss: 0.4662 - accuracy: 0.8202 - val_loss: 0.4696 - val_accuracy: 0.8246\n",
      "Epoch 108/400\n",
      "623/623 [==============================] - 0s 11us/step - loss: 0.4661 - accuracy: 0.8202 - val_loss: 0.4695 - val_accuracy: 0.8246\n",
      "Epoch 109/400\n",
      "623/623 [==============================] - 0s 11us/step - loss: 0.4659 - accuracy: 0.8186 - val_loss: 0.4693 - val_accuracy: 0.8246\n",
      "Epoch 110/400\n",
      "623/623 [==============================] - 0s 8us/step - loss: 0.4658 - accuracy: 0.8186 - val_loss: 0.4692 - val_accuracy: 0.8246\n",
      "Epoch 111/400\n",
      "623/623 [==============================] - 0s 11us/step - loss: 0.4657 - accuracy: 0.8186 - val_loss: 0.4691 - val_accuracy: 0.8246\n",
      "Epoch 112/400\n",
      "623/623 [==============================] - 0s 13us/step - loss: 0.4655 - accuracy: 0.8186 - val_loss: 0.4691 - val_accuracy: 0.8246\n",
      "Epoch 113/400\n",
      "623/623 [==============================] - 0s 10us/step - loss: 0.4654 - accuracy: 0.8186 - val_loss: 0.4690 - val_accuracy: 0.8246\n",
      "Epoch 114/400\n",
      "623/623 [==============================] - 0s 11us/step - loss: 0.4653 - accuracy: 0.8202 - val_loss: 0.4690 - val_accuracy: 0.8246\n"
     ]
    },
    {
     "name": "stdout",
     "output_type": "stream",
     "text": [
      "Epoch 115/400\n",
      "623/623 [==============================] - 0s 13us/step - loss: 0.4652 - accuracy: 0.8186 - val_loss: 0.4690 - val_accuracy: 0.8246\n",
      "Epoch 116/400\n",
      "623/623 [==============================] - 0s 10us/step - loss: 0.4650 - accuracy: 0.8202 - val_loss: 0.4689 - val_accuracy: 0.8246\n",
      "Epoch 117/400\n",
      "623/623 [==============================] - 0s 14us/step - loss: 0.4649 - accuracy: 0.8202 - val_loss: 0.4689 - val_accuracy: 0.8246\n",
      "Epoch 118/400\n",
      "623/623 [==============================] - 0s 11us/step - loss: 0.4648 - accuracy: 0.8202 - val_loss: 0.4688 - val_accuracy: 0.8246\n",
      "Epoch 119/400\n",
      "623/623 [==============================] - 0s 11us/step - loss: 0.4647 - accuracy: 0.8202 - val_loss: 0.4688 - val_accuracy: 0.8246\n",
      "Epoch 120/400\n",
      "623/623 [==============================] - 0s 10us/step - loss: 0.4646 - accuracy: 0.8202 - val_loss: 0.4688 - val_accuracy: 0.8246\n",
      "Epoch 121/400\n",
      "623/623 [==============================] - 0s 18us/step - loss: 0.4645 - accuracy: 0.8202 - val_loss: 0.4687 - val_accuracy: 0.8246\n",
      "Epoch 122/400\n",
      "623/623 [==============================] - 0s 8us/step - loss: 0.4643 - accuracy: 0.8202 - val_loss: 0.4686 - val_accuracy: 0.8246\n",
      "Epoch 123/400\n",
      "623/623 [==============================] - 0s 8us/step - loss: 0.4642 - accuracy: 0.8202 - val_loss: 0.4685 - val_accuracy: 0.8246\n",
      "Epoch 124/400\n",
      "623/623 [==============================] - 0s 13us/step - loss: 0.4641 - accuracy: 0.8202 - val_loss: 0.4684 - val_accuracy: 0.8246\n",
      "Epoch 125/400\n",
      "623/623 [==============================] - 0s 11us/step - loss: 0.4640 - accuracy: 0.8202 - val_loss: 0.4684 - val_accuracy: 0.8246\n",
      "Epoch 126/400\n",
      "623/623 [==============================] - 0s 10us/step - loss: 0.4639 - accuracy: 0.8202 - val_loss: 0.4683 - val_accuracy: 0.8246\n",
      "Epoch 127/400\n",
      "623/623 [==============================] - 0s 10us/step - loss: 0.4638 - accuracy: 0.8202 - val_loss: 0.4682 - val_accuracy: 0.8246\n",
      "Epoch 128/400\n",
      "623/623 [==============================] - 0s 11us/step - loss: 0.4637 - accuracy: 0.8202 - val_loss: 0.4681 - val_accuracy: 0.8246\n",
      "Epoch 129/400\n",
      "623/623 [==============================] - 0s 10us/step - loss: 0.4636 - accuracy: 0.8202 - val_loss: 0.4680 - val_accuracy: 0.8246\n",
      "Epoch 130/400\n",
      "623/623 [==============================] - 0s 11us/step - loss: 0.4635 - accuracy: 0.8202 - val_loss: 0.4679 - val_accuracy: 0.8246\n",
      "Epoch 131/400\n",
      "623/623 [==============================] - 0s 16us/step - loss: 0.4634 - accuracy: 0.8202 - val_loss: 0.4679 - val_accuracy: 0.8246\n",
      "Epoch 132/400\n",
      "623/623 [==============================] - 0s 13us/step - loss: 0.4633 - accuracy: 0.8202 - val_loss: 0.4678 - val_accuracy: 0.8246\n",
      "Epoch 133/400\n",
      "623/623 [==============================] - 0s 11us/step - loss: 0.4632 - accuracy: 0.8202 - val_loss: 0.4677 - val_accuracy: 0.8246\n",
      "Epoch 134/400\n",
      "623/623 [==============================] - 0s 11us/step - loss: 0.4631 - accuracy: 0.8202 - val_loss: 0.4676 - val_accuracy: 0.8246\n",
      "Epoch 135/400\n",
      "623/623 [==============================] - 0s 10us/step - loss: 0.4630 - accuracy: 0.8202 - val_loss: 0.4675 - val_accuracy: 0.8246\n",
      "Epoch 136/400\n",
      "623/623 [==============================] - 0s 11us/step - loss: 0.4629 - accuracy: 0.8202 - val_loss: 0.4674 - val_accuracy: 0.8246\n",
      "Epoch 137/400\n",
      "623/623 [==============================] - 0s 11us/step - loss: 0.4628 - accuracy: 0.8202 - val_loss: 0.4673 - val_accuracy: 0.8246\n",
      "Epoch 138/400\n",
      "623/623 [==============================] - 0s 11us/step - loss: 0.4627 - accuracy: 0.8202 - val_loss: 0.4672 - val_accuracy: 0.8246\n",
      "Epoch 139/400\n",
      "623/623 [==============================] - 0s 11us/step - loss: 0.4626 - accuracy: 0.8202 - val_loss: 0.4671 - val_accuracy: 0.8246\n",
      "Epoch 140/400\n",
      "623/623 [==============================] - 0s 10us/step - loss: 0.4625 - accuracy: 0.8202 - val_loss: 0.4671 - val_accuracy: 0.8246\n",
      "Epoch 141/400\n",
      "623/623 [==============================] - 0s 13us/step - loss: 0.4624 - accuracy: 0.8202 - val_loss: 0.4670 - val_accuracy: 0.8246\n",
      "Epoch 142/400\n",
      "623/623 [==============================] - 0s 11us/step - loss: 0.4623 - accuracy: 0.8202 - val_loss: 0.4669 - val_accuracy: 0.8246\n",
      "Epoch 143/400\n",
      "623/623 [==============================] - 0s 11us/step - loss: 0.4622 - accuracy: 0.8202 - val_loss: 0.4669 - val_accuracy: 0.8246\n",
      "Epoch 144/400\n",
      "623/623 [==============================] - 0s 11us/step - loss: 0.4621 - accuracy: 0.8202 - val_loss: 0.4668 - val_accuracy: 0.8246\n",
      "Epoch 145/400\n",
      "623/623 [==============================] - 0s 10us/step - loss: 0.4620 - accuracy: 0.8202 - val_loss: 0.4668 - val_accuracy: 0.8246\n",
      "Epoch 146/400\n",
      "623/623 [==============================] - 0s 13us/step - loss: 0.4619 - accuracy: 0.8202 - val_loss: 0.4667 - val_accuracy: 0.8246\n",
      "Epoch 147/400\n",
      "623/623 [==============================] - 0s 10us/step - loss: 0.4618 - accuracy: 0.8202 - val_loss: 0.4666 - val_accuracy: 0.8246\n",
      "Epoch 148/400\n",
      "623/623 [==============================] - 0s 8us/step - loss: 0.4617 - accuracy: 0.8202 - val_loss: 0.4665 - val_accuracy: 0.8246\n",
      "Epoch 149/400\n",
      "623/623 [==============================] - 0s 13us/step - loss: 0.4616 - accuracy: 0.8202 - val_loss: 0.4665 - val_accuracy: 0.8246\n",
      "Epoch 150/400\n",
      "623/623 [==============================] - 0s 10us/step - loss: 0.4616 - accuracy: 0.8202 - val_loss: 0.4664 - val_accuracy: 0.8246\n",
      "Epoch 151/400\n",
      "623/623 [==============================] - 0s 10us/step - loss: 0.4615 - accuracy: 0.8202 - val_loss: 0.4664 - val_accuracy: 0.8246\n",
      "Epoch 152/400\n",
      "623/623 [==============================] - 0s 8us/step - loss: 0.4614 - accuracy: 0.8202 - val_loss: 0.4663 - val_accuracy: 0.8246\n",
      "Epoch 153/400\n",
      "623/623 [==============================] - 0s 10us/step - loss: 0.4613 - accuracy: 0.8202 - val_loss: 0.4663 - val_accuracy: 0.8246\n",
      "Epoch 154/400\n",
      "623/623 [==============================] - 0s 13us/step - loss: 0.4612 - accuracy: 0.8202 - val_loss: 0.4662 - val_accuracy: 0.8246\n",
      "Epoch 155/400\n",
      "623/623 [==============================] - 0s 8us/step - loss: 0.4611 - accuracy: 0.8202 - val_loss: 0.4661 - val_accuracy: 0.8246\n",
      "Epoch 156/400\n",
      "623/623 [==============================] - 0s 16us/step - loss: 0.4611 - accuracy: 0.8202 - val_loss: 0.4660 - val_accuracy: 0.8246\n",
      "Epoch 157/400\n",
      "623/623 [==============================] - 0s 11us/step - loss: 0.4610 - accuracy: 0.8202 - val_loss: 0.4660 - val_accuracy: 0.8246\n",
      "Epoch 158/400\n",
      "623/623 [==============================] - 0s 16us/step - loss: 0.4609 - accuracy: 0.8202 - val_loss: 0.4660 - val_accuracy: 0.8246\n",
      "Epoch 159/400\n",
      "623/623 [==============================] - 0s 8us/step - loss: 0.4608 - accuracy: 0.8202 - val_loss: 0.4659 - val_accuracy: 0.8246\n",
      "Epoch 160/400\n",
      "623/623 [==============================] - 0s 10us/step - loss: 0.4607 - accuracy: 0.8202 - val_loss: 0.4658 - val_accuracy: 0.8246\n",
      "Epoch 161/400\n",
      "623/623 [==============================] - 0s 10us/step - loss: 0.4607 - accuracy: 0.8202 - val_loss: 0.4657 - val_accuracy: 0.8246\n",
      "Epoch 162/400\n",
      "623/623 [==============================] - 0s 8us/step - loss: 0.4606 - accuracy: 0.8202 - val_loss: 0.4657 - val_accuracy: 0.8246\n",
      "Epoch 163/400\n",
      "623/623 [==============================] - 0s 14us/step - loss: 0.4605 - accuracy: 0.8202 - val_loss: 0.4657 - val_accuracy: 0.8246\n",
      "Epoch 164/400\n",
      "623/623 [==============================] - 0s 11us/step - loss: 0.4604 - accuracy: 0.8202 - val_loss: 0.4656 - val_accuracy: 0.8246\n",
      "Epoch 165/400\n",
      "623/623 [==============================] - 0s 10us/step - loss: 0.4604 - accuracy: 0.8202 - val_loss: 0.4656 - val_accuracy: 0.8246\n",
      "Epoch 166/400\n",
      "623/623 [==============================] - 0s 10us/step - loss: 0.4603 - accuracy: 0.8202 - val_loss: 0.4655 - val_accuracy: 0.8246\n",
      "Epoch 167/400\n",
      "623/623 [==============================] - 0s 10us/step - loss: 0.4602 - accuracy: 0.8202 - val_loss: 0.4655 - val_accuracy: 0.8246\n",
      "Epoch 168/400\n",
      "623/623 [==============================] - 0s 11us/step - loss: 0.4601 - accuracy: 0.8202 - val_loss: 0.4654 - val_accuracy: 0.8284\n",
      "Epoch 169/400\n",
      "623/623 [==============================] - 0s 10us/step - loss: 0.4601 - accuracy: 0.8202 - val_loss: 0.4653 - val_accuracy: 0.8284\n",
      "Epoch 170/400\n",
      "623/623 [==============================] - 0s 10us/step - loss: 0.4600 - accuracy: 0.8202 - val_loss: 0.4653 - val_accuracy: 0.8284\n",
      "Epoch 171/400\n",
      "623/623 [==============================] - 0s 11us/step - loss: 0.4599 - accuracy: 0.8202 - val_loss: 0.4653 - val_accuracy: 0.8284\n"
     ]
    },
    {
     "name": "stdout",
     "output_type": "stream",
     "text": [
      "Epoch 172/400\n",
      "623/623 [==============================] - 0s 10us/step - loss: 0.4599 - accuracy: 0.8202 - val_loss: 0.4653 - val_accuracy: 0.8284\n",
      "Epoch 173/400\n",
      "623/623 [==============================] - 0s 8us/step - loss: 0.4598 - accuracy: 0.8202 - val_loss: 0.4653 - val_accuracy: 0.8284\n",
      "Epoch 174/400\n",
      "623/623 [==============================] - 0s 13us/step - loss: 0.4597 - accuracy: 0.8202 - val_loss: 0.4652 - val_accuracy: 0.8284\n",
      "Epoch 175/400\n",
      "623/623 [==============================] - 0s 8us/step - loss: 0.4596 - accuracy: 0.8202 - val_loss: 0.4651 - val_accuracy: 0.8284\n",
      "Epoch 176/400\n",
      "623/623 [==============================] - 0s 10us/step - loss: 0.4596 - accuracy: 0.8202 - val_loss: 0.4651 - val_accuracy: 0.8246\n",
      "Epoch 177/400\n",
      "623/623 [==============================] - 0s 10us/step - loss: 0.4595 - accuracy: 0.8202 - val_loss: 0.4651 - val_accuracy: 0.8284\n",
      "Epoch 178/400\n",
      "623/623 [==============================] - 0s 10us/step - loss: 0.4594 - accuracy: 0.8202 - val_loss: 0.4650 - val_accuracy: 0.8284\n",
      "Epoch 179/400\n",
      "623/623 [==============================] - 0s 13us/step - loss: 0.4594 - accuracy: 0.8202 - val_loss: 0.4650 - val_accuracy: 0.8284\n",
      "Epoch 180/400\n",
      "623/623 [==============================] - 0s 8us/step - loss: 0.4593 - accuracy: 0.8202 - val_loss: 0.4650 - val_accuracy: 0.8284\n",
      "Epoch 181/400\n",
      "623/623 [==============================] - 0s 10us/step - loss: 0.4592 - accuracy: 0.8202 - val_loss: 0.4650 - val_accuracy: 0.8284\n",
      "Epoch 182/400\n",
      "623/623 [==============================] - 0s 11us/step - loss: 0.4592 - accuracy: 0.8202 - val_loss: 0.4649 - val_accuracy: 0.8284\n",
      "Epoch 183/400\n",
      "623/623 [==============================] - 0s 10us/step - loss: 0.4591 - accuracy: 0.8202 - val_loss: 0.4648 - val_accuracy: 0.8284\n",
      "Epoch 184/400\n",
      "623/623 [==============================] - 0s 10us/step - loss: 0.4590 - accuracy: 0.8202 - val_loss: 0.4648 - val_accuracy: 0.8284\n",
      "Epoch 185/400\n",
      "623/623 [==============================] - 0s 10us/step - loss: 0.4590 - accuracy: 0.8202 - val_loss: 0.4647 - val_accuracy: 0.8284\n",
      "Epoch 186/400\n",
      "623/623 [==============================] - 0s 11us/step - loss: 0.4589 - accuracy: 0.8202 - val_loss: 0.4647 - val_accuracy: 0.8284\n",
      "Epoch 187/400\n",
      "623/623 [==============================] - 0s 11us/step - loss: 0.4589 - accuracy: 0.8202 - val_loss: 0.4647 - val_accuracy: 0.8284\n",
      "Epoch 188/400\n",
      "623/623 [==============================] - 0s 10us/step - loss: 0.4588 - accuracy: 0.8186 - val_loss: 0.4647 - val_accuracy: 0.8284\n",
      "Epoch 189/400\n",
      "623/623 [==============================] - 0s 13us/step - loss: 0.4587 - accuracy: 0.8202 - val_loss: 0.4646 - val_accuracy: 0.8284\n",
      "Epoch 190/400\n",
      "623/623 [==============================] - 0s 10us/step - loss: 0.4587 - accuracy: 0.8202 - val_loss: 0.4645 - val_accuracy: 0.8284\n",
      "Epoch 191/400\n",
      "623/623 [==============================] - 0s 10us/step - loss: 0.4586 - accuracy: 0.8186 - val_loss: 0.4645 - val_accuracy: 0.8284\n",
      "Epoch 192/400\n",
      "623/623 [==============================] - 0s 13us/step - loss: 0.4585 - accuracy: 0.8202 - val_loss: 0.4645 - val_accuracy: 0.8284\n",
      "Epoch 193/400\n",
      "623/623 [==============================] - 0s 10us/step - loss: 0.4585 - accuracy: 0.8202 - val_loss: 0.4644 - val_accuracy: 0.8284\n",
      "Epoch 194/400\n",
      "623/623 [==============================] - 0s 13us/step - loss: 0.4584 - accuracy: 0.8202 - val_loss: 0.4644 - val_accuracy: 0.8284\n",
      "Epoch 195/400\n",
      "623/623 [==============================] - 0s 8us/step - loss: 0.4584 - accuracy: 0.8186 - val_loss: 0.4644 - val_accuracy: 0.8284\n",
      "Epoch 196/400\n",
      "623/623 [==============================] - 0s 10us/step - loss: 0.4583 - accuracy: 0.8186 - val_loss: 0.4643 - val_accuracy: 0.8284\n",
      "Epoch 197/400\n",
      "623/623 [==============================] - 0s 11us/step - loss: 0.4582 - accuracy: 0.8202 - val_loss: 0.4643 - val_accuracy: 0.8284\n",
      "Epoch 198/400\n",
      "623/623 [==============================] - 0s 10us/step - loss: 0.4582 - accuracy: 0.8202 - val_loss: 0.4642 - val_accuracy: 0.8284\n",
      "Epoch 199/400\n",
      "623/623 [==============================] - 0s 10us/step - loss: 0.4581 - accuracy: 0.8186 - val_loss: 0.4642 - val_accuracy: 0.8284\n",
      "Epoch 200/400\n",
      "623/623 [==============================] - 0s 10us/step - loss: 0.4581 - accuracy: 0.8186 - val_loss: 0.4641 - val_accuracy: 0.8284\n",
      "Epoch 201/400\n",
      "623/623 [==============================] - 0s 10us/step - loss: 0.4580 - accuracy: 0.8186 - val_loss: 0.4641 - val_accuracy: 0.8284\n",
      "Epoch 202/400\n",
      "623/623 [==============================] - 0s 10us/step - loss: 0.4580 - accuracy: 0.8202 - val_loss: 0.4641 - val_accuracy: 0.8284\n",
      "Epoch 203/400\n",
      "623/623 [==============================] - 0s 13us/step - loss: 0.4579 - accuracy: 0.8202 - val_loss: 0.4640 - val_accuracy: 0.8284\n",
      "Epoch 204/400\n",
      "623/623 [==============================] - 0s 11us/step - loss: 0.4578 - accuracy: 0.8202 - val_loss: 0.4640 - val_accuracy: 0.8284\n",
      "Epoch 205/400\n",
      "623/623 [==============================] - 0s 10us/step - loss: 0.4578 - accuracy: 0.8202 - val_loss: 0.4639 - val_accuracy: 0.8284\n",
      "Epoch 206/400\n",
      "623/623 [==============================] - 0s 13us/step - loss: 0.4577 - accuracy: 0.8202 - val_loss: 0.4639 - val_accuracy: 0.8284\n",
      "Epoch 207/400\n",
      "623/623 [==============================] - 0s 10us/step - loss: 0.4577 - accuracy: 0.8202 - val_loss: 0.4639 - val_accuracy: 0.8284\n",
      "Epoch 208/400\n",
      "623/623 [==============================] - 0s 8us/step - loss: 0.4576 - accuracy: 0.8202 - val_loss: 0.4639 - val_accuracy: 0.8284\n",
      "Epoch 209/400\n",
      "623/623 [==============================] - 0s 8us/step - loss: 0.4576 - accuracy: 0.8186 - val_loss: 0.4638 - val_accuracy: 0.8284\n",
      "Epoch 210/400\n",
      "623/623 [==============================] - 0s 8us/step - loss: 0.4575 - accuracy: 0.8186 - val_loss: 0.4638 - val_accuracy: 0.8284\n",
      "Epoch 211/400\n",
      "623/623 [==============================] - 0s 6us/step - loss: 0.4574 - accuracy: 0.8186 - val_loss: 0.4638 - val_accuracy: 0.8284\n",
      "Epoch 212/400\n",
      "623/623 [==============================] - 0s 6us/step - loss: 0.4574 - accuracy: 0.8186 - val_loss: 0.4637 - val_accuracy: 0.8284\n",
      "Epoch 213/400\n",
      "623/623 [==============================] - 0s 8us/step - loss: 0.4573 - accuracy: 0.8170 - val_loss: 0.4637 - val_accuracy: 0.8284\n",
      "Epoch 214/400\n",
      "623/623 [==============================] - 0s 8us/step - loss: 0.4573 - accuracy: 0.8186 - val_loss: 0.4637 - val_accuracy: 0.8284\n",
      "Epoch 215/400\n",
      "623/623 [==============================] - 0s 8us/step - loss: 0.4572 - accuracy: 0.8170 - val_loss: 0.4636 - val_accuracy: 0.8284\n",
      "Epoch 216/400\n",
      "623/623 [==============================] - 0s 6us/step - loss: 0.4572 - accuracy: 0.8170 - val_loss: 0.4636 - val_accuracy: 0.8284\n",
      "Epoch 217/400\n",
      "623/623 [==============================] - 0s 6us/step - loss: 0.4571 - accuracy: 0.8170 - val_loss: 0.4636 - val_accuracy: 0.8284\n",
      "Epoch 218/400\n",
      "623/623 [==============================] - 0s 1us/step - loss: 0.4571 - accuracy: 0.8186 - val_loss: 0.4635 - val_accuracy: 0.8284\n",
      "Epoch 219/400\n",
      "623/623 [==============================] - 0s 16us/step - loss: 0.4570 - accuracy: 0.8170 - val_loss: 0.4635 - val_accuracy: 0.8284\n",
      "Epoch 220/400\n",
      "623/623 [==============================] - 0s 0us/step - loss: 0.4570 - accuracy: 0.8170 - val_loss: 0.4635 - val_accuracy: 0.8284\n",
      "Epoch 221/400\n",
      "623/623 [==============================] - 0s 0us/step - loss: 0.4569 - accuracy: 0.8186 - val_loss: 0.4635 - val_accuracy: 0.8284\n",
      "Epoch 222/400\n",
      "623/623 [==============================] - 0s 16us/step - loss: 0.4569 - accuracy: 0.8170 - val_loss: 0.4634 - val_accuracy: 0.8284\n",
      "Epoch 223/400\n",
      "623/623 [==============================] - 0s 0us/step - loss: 0.4568 - accuracy: 0.8170 - val_loss: 0.4634 - val_accuracy: 0.8284\n",
      "Epoch 224/400\n",
      "623/623 [==============================] - 0s 0us/step - loss: 0.4568 - accuracy: 0.8170 - val_loss: 0.4634 - val_accuracy: 0.8284\n",
      "Epoch 225/400\n",
      "623/623 [==============================] - 0s 16us/step - loss: 0.4567 - accuracy: 0.8170 - val_loss: 0.4633 - val_accuracy: 0.8284\n",
      "Epoch 226/400\n",
      "623/623 [==============================] - 0s 17us/step - loss: 0.4567 - accuracy: 0.8186 - val_loss: 0.4633 - val_accuracy: 0.8284\n",
      "Epoch 227/400\n",
      "623/623 [==============================] - 0s 6us/step - loss: 0.4566 - accuracy: 0.8170 - val_loss: 0.4632 - val_accuracy: 0.8284\n",
      "Epoch 228/400\n",
      "623/623 [==============================] - 0s 6us/step - loss: 0.4566 - accuracy: 0.8170 - val_loss: 0.4631 - val_accuracy: 0.8284\n"
     ]
    },
    {
     "name": "stdout",
     "output_type": "stream",
     "text": [
      "Epoch 229/400\n",
      "623/623 [==============================] - 0s 8us/step - loss: 0.4565 - accuracy: 0.8186 - val_loss: 0.4631 - val_accuracy: 0.8284\n",
      "Epoch 230/400\n",
      "623/623 [==============================] - 0s 8us/step - loss: 0.4565 - accuracy: 0.8170 - val_loss: 0.4631 - val_accuracy: 0.8284\n",
      "Epoch 231/400\n",
      "623/623 [==============================] - 0s 13us/step - loss: 0.4564 - accuracy: 0.8170 - val_loss: 0.4631 - val_accuracy: 0.8321\n",
      "Epoch 232/400\n",
      "623/623 [==============================] - 0s 13us/step - loss: 0.4564 - accuracy: 0.8170 - val_loss: 0.4632 - val_accuracy: 0.8321\n",
      "Epoch 233/400\n",
      "623/623 [==============================] - 0s 10us/step - loss: 0.4563 - accuracy: 0.8170 - val_loss: 0.4631 - val_accuracy: 0.8284\n",
      "Epoch 234/400\n",
      "623/623 [==============================] - 0s 14us/step - loss: 0.4563 - accuracy: 0.8170 - val_loss: 0.4630 - val_accuracy: 0.8284\n",
      "Epoch 235/400\n",
      "623/623 [==============================] - 0s 11us/step - loss: 0.4562 - accuracy: 0.8186 - val_loss: 0.4630 - val_accuracy: 0.8284\n",
      "Epoch 236/400\n",
      "623/623 [==============================] - 0s 11us/step - loss: 0.4562 - accuracy: 0.8186 - val_loss: 0.4629 - val_accuracy: 0.8284\n",
      "Epoch 237/400\n",
      "623/623 [==============================] - 0s 8us/step - loss: 0.4561 - accuracy: 0.8186 - val_loss: 0.4629 - val_accuracy: 0.8284\n",
      "Epoch 238/400\n",
      "623/623 [==============================] - 0s 11us/step - loss: 0.4561 - accuracy: 0.8186 - val_loss: 0.4629 - val_accuracy: 0.8284\n",
      "Epoch 239/400\n",
      "623/623 [==============================] - 0s 10us/step - loss: 0.4560 - accuracy: 0.8170 - val_loss: 0.4629 - val_accuracy: 0.8321\n",
      "Epoch 240/400\n",
      "623/623 [==============================] - 0s 13us/step - loss: 0.4560 - accuracy: 0.8170 - val_loss: 0.4629 - val_accuracy: 0.8321\n",
      "Epoch 241/400\n",
      "623/623 [==============================] - 0s 10us/step - loss: 0.4559 - accuracy: 0.8170 - val_loss: 0.4629 - val_accuracy: 0.8321\n",
      "Epoch 242/400\n",
      "623/623 [==============================] - 0s 10us/step - loss: 0.4559 - accuracy: 0.8170 - val_loss: 0.4628 - val_accuracy: 0.8321\n",
      "Epoch 243/400\n",
      "623/623 [==============================] - 0s 11us/step - loss: 0.4558 - accuracy: 0.8170 - val_loss: 0.4628 - val_accuracy: 0.8321\n",
      "Epoch 244/400\n",
      "623/623 [==============================] - 0s 11us/step - loss: 0.4558 - accuracy: 0.8170 - val_loss: 0.4627 - val_accuracy: 0.8321\n",
      "Epoch 245/400\n",
      "623/623 [==============================] - 0s 11us/step - loss: 0.4557 - accuracy: 0.8170 - val_loss: 0.4626 - val_accuracy: 0.8284\n",
      "Epoch 246/400\n",
      "623/623 [==============================] - 0s 10us/step - loss: 0.4557 - accuracy: 0.8186 - val_loss: 0.4627 - val_accuracy: 0.8284\n",
      "Epoch 247/400\n",
      "623/623 [==============================] - 0s 8us/step - loss: 0.4556 - accuracy: 0.8186 - val_loss: 0.4627 - val_accuracy: 0.8321\n",
      "Epoch 248/400\n",
      "623/623 [==============================] - 0s 8us/step - loss: 0.4556 - accuracy: 0.8170 - val_loss: 0.4627 - val_accuracy: 0.8284\n",
      "Epoch 249/400\n",
      "623/623 [==============================] - 0s 11us/step - loss: 0.4556 - accuracy: 0.8170 - val_loss: 0.4627 - val_accuracy: 0.8321\n",
      "Epoch 250/400\n",
      "623/623 [==============================] - 0s 10us/step - loss: 0.4555 - accuracy: 0.8170 - val_loss: 0.4627 - val_accuracy: 0.8321\n",
      "Epoch 251/400\n",
      "623/623 [==============================] - 0s 16us/step - loss: 0.4555 - accuracy: 0.8170 - val_loss: 0.4626 - val_accuracy: 0.8321\n",
      "Epoch 252/400\n",
      "623/623 [==============================] - 0s 14us/step - loss: 0.4554 - accuracy: 0.8170 - val_loss: 0.4625 - val_accuracy: 0.8284\n",
      "Epoch 253/400\n",
      "623/623 [==============================] - 0s 11us/step - loss: 0.4554 - accuracy: 0.8186 - val_loss: 0.4625 - val_accuracy: 0.8321\n",
      "Epoch 254/400\n",
      "623/623 [==============================] - 0s 10us/step - loss: 0.4553 - accuracy: 0.8170 - val_loss: 0.4625 - val_accuracy: 0.8321\n",
      "Epoch 255/400\n",
      "623/623 [==============================] - 0s 10us/step - loss: 0.4553 - accuracy: 0.8170 - val_loss: 0.4625 - val_accuracy: 0.8321\n",
      "Epoch 256/400\n",
      "623/623 [==============================] - 0s 8us/step - loss: 0.4552 - accuracy: 0.8170 - val_loss: 0.4624 - val_accuracy: 0.8321\n",
      "Epoch 257/400\n",
      "623/623 [==============================] - 0s 10us/step - loss: 0.4552 - accuracy: 0.8170 - val_loss: 0.4624 - val_accuracy: 0.8321\n",
      "Epoch 258/400\n",
      "623/623 [==============================] - 0s 11us/step - loss: 0.4552 - accuracy: 0.8170 - val_loss: 0.4624 - val_accuracy: 0.8321\n",
      "Epoch 259/400\n",
      "623/623 [==============================] - 0s 8us/step - loss: 0.4551 - accuracy: 0.8170 - val_loss: 0.4623 - val_accuracy: 0.8284\n",
      "Epoch 260/400\n",
      "623/623 [==============================] - 0s 8us/step - loss: 0.4551 - accuracy: 0.8186 - val_loss: 0.4623 - val_accuracy: 0.8321\n",
      "Epoch 261/400\n",
      "623/623 [==============================] - 0s 8us/step - loss: 0.4550 - accuracy: 0.8170 - val_loss: 0.4623 - val_accuracy: 0.8321\n",
      "Epoch 262/400\n",
      "623/623 [==============================] - 0s 10us/step - loss: 0.4550 - accuracy: 0.8170 - val_loss: 0.4623 - val_accuracy: 0.8321\n",
      "Epoch 263/400\n",
      "623/623 [==============================] - 0s 11us/step - loss: 0.4549 - accuracy: 0.8170 - val_loss: 0.4623 - val_accuracy: 0.8321\n",
      "Epoch 264/400\n",
      "623/623 [==============================] - 0s 11us/step - loss: 0.4549 - accuracy: 0.8170 - val_loss: 0.4623 - val_accuracy: 0.8321\n",
      "Epoch 265/400\n",
      "623/623 [==============================] - 0s 10us/step - loss: 0.4548 - accuracy: 0.8170 - val_loss: 0.4623 - val_accuracy: 0.8321\n",
      "Epoch 266/400\n",
      "623/623 [==============================] - 0s 11us/step - loss: 0.4548 - accuracy: 0.8170 - val_loss: 0.4622 - val_accuracy: 0.8321\n",
      "Epoch 267/400\n",
      "623/623 [==============================] - 0s 11us/step - loss: 0.4548 - accuracy: 0.8170 - val_loss: 0.4621 - val_accuracy: 0.8321\n",
      "Epoch 268/400\n",
      "623/623 [==============================] - 0s 10us/step - loss: 0.4547 - accuracy: 0.8170 - val_loss: 0.4622 - val_accuracy: 0.8321\n",
      "Epoch 269/400\n",
      "623/623 [==============================] - 0s 10us/step - loss: 0.4547 - accuracy: 0.8170 - val_loss: 0.4621 - val_accuracy: 0.8321\n",
      "Epoch 270/400\n",
      "623/623 [==============================] - 0s 11us/step - loss: 0.4546 - accuracy: 0.8170 - val_loss: 0.4621 - val_accuracy: 0.8321\n",
      "Epoch 271/400\n",
      "623/623 [==============================] - 0s 8us/step - loss: 0.4546 - accuracy: 0.8170 - val_loss: 0.4621 - val_accuracy: 0.8321\n",
      "Epoch 272/400\n",
      "623/623 [==============================] - 0s 13us/step - loss: 0.4546 - accuracy: 0.8170 - val_loss: 0.4620 - val_accuracy: 0.8321\n",
      "Epoch 273/400\n",
      "623/623 [==============================] - 0s 10us/step - loss: 0.4545 - accuracy: 0.8170 - val_loss: 0.4620 - val_accuracy: 0.8321\n",
      "Epoch 274/400\n",
      "623/623 [==============================] - 0s 10us/step - loss: 0.4545 - accuracy: 0.8170 - val_loss: 0.4620 - val_accuracy: 0.8284\n",
      "Epoch 275/400\n",
      "623/623 [==============================] - 0s 10us/step - loss: 0.4544 - accuracy: 0.8186 - val_loss: 0.4620 - val_accuracy: 0.8321\n",
      "Epoch 276/400\n",
      "623/623 [==============================] - 0s 10us/step - loss: 0.4544 - accuracy: 0.8170 - val_loss: 0.4620 - val_accuracy: 0.8321\n",
      "Epoch 277/400\n",
      "623/623 [==============================] - 0s 11us/step - loss: 0.4543 - accuracy: 0.8170 - val_loss: 0.4619 - val_accuracy: 0.8321\n",
      "Epoch 278/400\n",
      "623/623 [==============================] - 0s 11us/step - loss: 0.4543 - accuracy: 0.8170 - val_loss: 0.4619 - val_accuracy: 0.8321\n",
      "Epoch 279/400\n",
      "623/623 [==============================] - 0s 11us/step - loss: 0.4543 - accuracy: 0.8170 - val_loss: 0.4619 - val_accuracy: 0.8321\n",
      "Epoch 280/400\n",
      "623/623 [==============================] - 0s 10us/step - loss: 0.4542 - accuracy: 0.8170 - val_loss: 0.4619 - val_accuracy: 0.8321\n",
      "Epoch 281/400\n",
      "623/623 [==============================] - 0s 10us/step - loss: 0.4542 - accuracy: 0.8170 - val_loss: 0.4618 - val_accuracy: 0.8321\n",
      "Epoch 282/400\n",
      "623/623 [==============================] - 0s 10us/step - loss: 0.4541 - accuracy: 0.8170 - val_loss: 0.4619 - val_accuracy: 0.8321\n",
      "Epoch 283/400\n",
      "623/623 [==============================] - 0s 10us/step - loss: 0.4541 - accuracy: 0.8170 - val_loss: 0.4618 - val_accuracy: 0.8321\n",
      "Epoch 284/400\n",
      "623/623 [==============================] - 0s 8us/step - loss: 0.4541 - accuracy: 0.8170 - val_loss: 0.4617 - val_accuracy: 0.8321\n",
      "Epoch 285/400\n",
      "623/623 [==============================] - 0s 10us/step - loss: 0.4540 - accuracy: 0.8170 - val_loss: 0.4617 - val_accuracy: 0.8321\n"
     ]
    },
    {
     "name": "stdout",
     "output_type": "stream",
     "text": [
      "Epoch 286/400\n",
      "623/623 [==============================] - 0s 11us/step - loss: 0.4540 - accuracy: 0.8170 - val_loss: 0.4617 - val_accuracy: 0.8321\n",
      "Epoch 287/400\n",
      "623/623 [==============================] - 0s 8us/step - loss: 0.4539 - accuracy: 0.8170 - val_loss: 0.4617 - val_accuracy: 0.8321\n",
      "Epoch 288/400\n",
      "623/623 [==============================] - 0s 11us/step - loss: 0.4539 - accuracy: 0.8170 - val_loss: 0.4616 - val_accuracy: 0.8321\n",
      "Epoch 289/400\n",
      "623/623 [==============================] - 0s 10us/step - loss: 0.4539 - accuracy: 0.8170 - val_loss: 0.4616 - val_accuracy: 0.8321\n",
      "Epoch 290/400\n",
      "623/623 [==============================] - 0s 11us/step - loss: 0.4538 - accuracy: 0.8170 - val_loss: 0.4616 - val_accuracy: 0.8321\n",
      "Epoch 291/400\n",
      "623/623 [==============================] - 0s 8us/step - loss: 0.4538 - accuracy: 0.8170 - val_loss: 0.4615 - val_accuracy: 0.8321\n",
      "Epoch 292/400\n",
      "623/623 [==============================] - 0s 10us/step - loss: 0.4538 - accuracy: 0.8170 - val_loss: 0.4616 - val_accuracy: 0.8321\n",
      "Epoch 293/400\n",
      "623/623 [==============================] - 0s 10us/step - loss: 0.4537 - accuracy: 0.8170 - val_loss: 0.4616 - val_accuracy: 0.8321\n",
      "Epoch 294/400\n",
      "623/623 [==============================] - 0s 10us/step - loss: 0.4537 - accuracy: 0.8170 - val_loss: 0.4616 - val_accuracy: 0.8321\n",
      "Epoch 295/400\n",
      "623/623 [==============================] - 0s 11us/step - loss: 0.4536 - accuracy: 0.8170 - val_loss: 0.4616 - val_accuracy: 0.8321\n",
      "Epoch 296/400\n",
      "623/623 [==============================] - 0s 8us/step - loss: 0.4536 - accuracy: 0.8170 - val_loss: 0.4616 - val_accuracy: 0.8321\n",
      "Epoch 297/400\n",
      "623/623 [==============================] - 0s 11us/step - loss: 0.4536 - accuracy: 0.8170 - val_loss: 0.4615 - val_accuracy: 0.8321\n",
      "Epoch 298/400\n",
      "623/623 [==============================] - 0s 10us/step - loss: 0.4535 - accuracy: 0.8170 - val_loss: 0.4614 - val_accuracy: 0.8321\n",
      "Epoch 299/400\n",
      "623/623 [==============================] - 0s 10us/step - loss: 0.4535 - accuracy: 0.8170 - val_loss: 0.4614 - val_accuracy: 0.8321\n",
      "Epoch 300/400\n",
      "623/623 [==============================] - 0s 16us/step - loss: 0.4534 - accuracy: 0.8170 - val_loss: 0.4614 - val_accuracy: 0.8321\n",
      "Epoch 301/400\n",
      "623/623 [==============================] - 0s 8us/step - loss: 0.4534 - accuracy: 0.8170 - val_loss: 0.4614 - val_accuracy: 0.8321\n",
      "Epoch 302/400\n",
      "623/623 [==============================] - 0s 8us/step - loss: 0.4534 - accuracy: 0.8170 - val_loss: 0.4614 - val_accuracy: 0.8321\n",
      "Epoch 303/400\n",
      "623/623 [==============================] - 0s 11us/step - loss: 0.4533 - accuracy: 0.8170 - val_loss: 0.4614 - val_accuracy: 0.8321\n",
      "Epoch 304/400\n",
      "623/623 [==============================] - 0s 10us/step - loss: 0.4533 - accuracy: 0.8170 - val_loss: 0.4613 - val_accuracy: 0.8321\n",
      "Epoch 305/400\n",
      "623/623 [==============================] - 0s 13us/step - loss: 0.4533 - accuracy: 0.8170 - val_loss: 0.4613 - val_accuracy: 0.8321\n",
      "Epoch 306/400\n",
      "623/623 [==============================] - 0s 10us/step - loss: 0.4532 - accuracy: 0.8170 - val_loss: 0.4613 - val_accuracy: 0.8321\n",
      "Epoch 307/400\n",
      "623/623 [==============================] - 0s 11us/step - loss: 0.4532 - accuracy: 0.8170 - val_loss: 0.4614 - val_accuracy: 0.8321\n",
      "Epoch 308/400\n",
      "623/623 [==============================] - 0s 8us/step - loss: 0.4532 - accuracy: 0.8170 - val_loss: 0.4614 - val_accuracy: 0.8321\n",
      "Epoch 309/400\n",
      "623/623 [==============================] - 0s 8us/step - loss: 0.4531 - accuracy: 0.8170 - val_loss: 0.4613 - val_accuracy: 0.8321\n",
      "Epoch 310/400\n",
      "623/623 [==============================] - 0s 10us/step - loss: 0.4531 - accuracy: 0.8170 - val_loss: 0.4613 - val_accuracy: 0.8321\n",
      "Epoch 311/400\n",
      "623/623 [==============================] - 0s 10us/step - loss: 0.4530 - accuracy: 0.8170 - val_loss: 0.4612 - val_accuracy: 0.8321\n",
      "Epoch 312/400\n",
      "623/623 [==============================] - 0s 10us/step - loss: 0.4530 - accuracy: 0.8170 - val_loss: 0.4612 - val_accuracy: 0.8321\n",
      "Epoch 313/400\n",
      "623/623 [==============================] - 0s 8us/step - loss: 0.4530 - accuracy: 0.8170 - val_loss: 0.4612 - val_accuracy: 0.8321\n",
      "Epoch 314/400\n",
      "623/623 [==============================] - 0s 11us/step - loss: 0.4529 - accuracy: 0.8170 - val_loss: 0.4612 - val_accuracy: 0.8321\n",
      "Epoch 315/400\n",
      "623/623 [==============================] - 0s 11us/step - loss: 0.4529 - accuracy: 0.8170 - val_loss: 0.4612 - val_accuracy: 0.8321\n",
      "Epoch 316/400\n",
      "623/623 [==============================] - 0s 8us/step - loss: 0.4529 - accuracy: 0.8170 - val_loss: 0.4611 - val_accuracy: 0.8321\n",
      "Epoch 317/400\n",
      "623/623 [==============================] - 0s 11us/step - loss: 0.4528 - accuracy: 0.8170 - val_loss: 0.4611 - val_accuracy: 0.8321\n",
      "Epoch 318/400\n",
      "623/623 [==============================] - 0s 10us/step - loss: 0.4528 - accuracy: 0.8170 - val_loss: 0.4611 - val_accuracy: 0.8321\n",
      "Epoch 319/400\n",
      "623/623 [==============================] - 0s 11us/step - loss: 0.4528 - accuracy: 0.8170 - val_loss: 0.4610 - val_accuracy: 0.8321\n",
      "Epoch 320/400\n",
      "623/623 [==============================] - 0s 10us/step - loss: 0.4527 - accuracy: 0.8170 - val_loss: 0.4610 - val_accuracy: 0.8321\n",
      "Epoch 321/400\n",
      "623/623 [==============================] - 0s 10us/step - loss: 0.4527 - accuracy: 0.8170 - val_loss: 0.4610 - val_accuracy: 0.8321\n",
      "Epoch 322/400\n",
      "623/623 [==============================] - 0s 10us/step - loss: 0.4526 - accuracy: 0.8170 - val_loss: 0.4611 - val_accuracy: 0.8321\n",
      "Epoch 323/400\n",
      "623/623 [==============================] - 0s 10us/step - loss: 0.4526 - accuracy: 0.8170 - val_loss: 0.4611 - val_accuracy: 0.8321\n",
      "Epoch 324/400\n",
      "623/623 [==============================] - 0s 8us/step - loss: 0.4526 - accuracy: 0.8170 - val_loss: 0.4610 - val_accuracy: 0.8321\n",
      "Epoch 325/400\n",
      "623/623 [==============================] - 0s 10us/step - loss: 0.4525 - accuracy: 0.8170 - val_loss: 0.4609 - val_accuracy: 0.8321\n",
      "Epoch 326/400\n",
      "623/623 [==============================] - 0s 6us/step - loss: 0.4525 - accuracy: 0.8170 - val_loss: 0.4609 - val_accuracy: 0.8321\n",
      "Epoch 327/400\n",
      "623/623 [==============================] - 0s 8us/step - loss: 0.4525 - accuracy: 0.8170 - val_loss: 0.4610 - val_accuracy: 0.8321\n",
      "Epoch 328/400\n",
      "623/623 [==============================] - 0s 8us/step - loss: 0.4524 - accuracy: 0.8170 - val_loss: 0.4610 - val_accuracy: 0.8321\n",
      "Epoch 329/400\n",
      "623/623 [==============================] - 0s 10us/step - loss: 0.4524 - accuracy: 0.8170 - val_loss: 0.4609 - val_accuracy: 0.8321\n",
      "Epoch 330/400\n",
      "623/623 [==============================] - 0s 10us/step - loss: 0.4524 - accuracy: 0.8170 - val_loss: 0.4610 - val_accuracy: 0.8321\n",
      "Epoch 331/400\n",
      "623/623 [==============================] - 0s 10us/step - loss: 0.4523 - accuracy: 0.8170 - val_loss: 0.4609 - val_accuracy: 0.8321\n",
      "Epoch 332/400\n",
      "623/623 [==============================] - 0s 6us/step - loss: 0.4523 - accuracy: 0.8170 - val_loss: 0.4609 - val_accuracy: 0.8321\n",
      "Epoch 333/400\n",
      "623/623 [==============================] - 0s 10us/step - loss: 0.4523 - accuracy: 0.8170 - val_loss: 0.4609 - val_accuracy: 0.8321\n",
      "Epoch 334/400\n",
      "623/623 [==============================] - 0s 11us/step - loss: 0.4522 - accuracy: 0.8170 - val_loss: 0.4608 - val_accuracy: 0.8321\n",
      "Epoch 335/400\n",
      "623/623 [==============================] - 0s 8us/step - loss: 0.4522 - accuracy: 0.8170 - val_loss: 0.4608 - val_accuracy: 0.8321\n",
      "Epoch 336/400\n",
      "623/623 [==============================] - 0s 8us/step - loss: 0.4522 - accuracy: 0.8170 - val_loss: 0.4608 - val_accuracy: 0.8321\n",
      "Epoch 337/400\n",
      "623/623 [==============================] - 0s 8us/step - loss: 0.4521 - accuracy: 0.8170 - val_loss: 0.4609 - val_accuracy: 0.8321\n",
      "Epoch 338/400\n",
      "623/623 [==============================] - 0s 10us/step - loss: 0.4521 - accuracy: 0.8154 - val_loss: 0.4608 - val_accuracy: 0.8321\n",
      "Epoch 339/400\n",
      "623/623 [==============================] - 0s 8us/step - loss: 0.4521 - accuracy: 0.8154 - val_loss: 0.4608 - val_accuracy: 0.8321\n",
      "Epoch 340/400\n",
      "623/623 [==============================] - 0s 10us/step - loss: 0.4520 - accuracy: 0.8154 - val_loss: 0.4607 - val_accuracy: 0.8321\n",
      "Epoch 341/400\n",
      "623/623 [==============================] - 0s 14us/step - loss: 0.4520 - accuracy: 0.8154 - val_loss: 0.4606 - val_accuracy: 0.8321\n",
      "Epoch 342/400\n",
      "623/623 [==============================] - 0s 10us/step - loss: 0.4519 - accuracy: 0.8170 - val_loss: 0.4607 - val_accuracy: 0.8321\n"
     ]
    },
    {
     "name": "stdout",
     "output_type": "stream",
     "text": [
      "Epoch 343/400\n",
      "623/623 [==============================] - 0s 8us/step - loss: 0.4519 - accuracy: 0.8154 - val_loss: 0.4607 - val_accuracy: 0.8321\n",
      "Epoch 344/400\n",
      "623/623 [==============================] - 0s 10us/step - loss: 0.4518 - accuracy: 0.8154 - val_loss: 0.4606 - val_accuracy: 0.8358\n",
      "Epoch 345/400\n",
      "623/623 [==============================] - 0s 8us/step - loss: 0.4518 - accuracy: 0.8154 - val_loss: 0.4605 - val_accuracy: 0.8358\n",
      "Epoch 346/400\n",
      "623/623 [==============================] - 0s 8us/step - loss: 0.4518 - accuracy: 0.8154 - val_loss: 0.4603 - val_accuracy: 0.8321\n",
      "Epoch 347/400\n",
      "623/623 [==============================] - 0s 8us/step - loss: 0.4517 - accuracy: 0.8154 - val_loss: 0.4602 - val_accuracy: 0.8358\n",
      "Epoch 348/400\n",
      "623/623 [==============================] - 0s 10us/step - loss: 0.4517 - accuracy: 0.8154 - val_loss: 0.4601 - val_accuracy: 0.8321\n",
      "Epoch 349/400\n",
      "623/623 [==============================] - 0s 8us/step - loss: 0.4517 - accuracy: 0.8154 - val_loss: 0.4601 - val_accuracy: 0.8321\n",
      "Epoch 350/400\n",
      "623/623 [==============================] - 0s 10us/step - loss: 0.4516 - accuracy: 0.8154 - val_loss: 0.4601 - val_accuracy: 0.8321\n",
      "Epoch 351/400\n",
      "623/623 [==============================] - 0s 11us/step - loss: 0.4516 - accuracy: 0.8154 - val_loss: 0.4602 - val_accuracy: 0.8321\n",
      "Epoch 352/400\n",
      "623/623 [==============================] - 0s 8us/step - loss: 0.4516 - accuracy: 0.8154 - val_loss: 0.4603 - val_accuracy: 0.8321\n",
      "Epoch 353/400\n",
      "623/623 [==============================] - 0s 8us/step - loss: 0.4515 - accuracy: 0.8154 - val_loss: 0.4604 - val_accuracy: 0.8321\n",
      "Epoch 354/400\n",
      "623/623 [==============================] - 0s 8us/step - loss: 0.4515 - accuracy: 0.8154 - val_loss: 0.4605 - val_accuracy: 0.8321\n",
      "Epoch 355/400\n",
      "623/623 [==============================] - 0s 10us/step - loss: 0.4515 - accuracy: 0.8154 - val_loss: 0.4604 - val_accuracy: 0.8321\n",
      "Epoch 356/400\n",
      "623/623 [==============================] - 0s 10us/step - loss: 0.4514 - accuracy: 0.8154 - val_loss: 0.4604 - val_accuracy: 0.8321\n",
      "Epoch 357/400\n",
      "623/623 [==============================] - 0s 10us/step - loss: 0.4514 - accuracy: 0.8154 - val_loss: 0.4604 - val_accuracy: 0.8321\n",
      "Epoch 358/400\n",
      "623/623 [==============================] - 0s 8us/step - loss: 0.4514 - accuracy: 0.8154 - val_loss: 0.4605 - val_accuracy: 0.8321\n",
      "Epoch 359/400\n",
      "623/623 [==============================] - 0s 10us/step - loss: 0.4513 - accuracy: 0.8154 - val_loss: 0.4605 - val_accuracy: 0.8321\n",
      "Epoch 360/400\n",
      "623/623 [==============================] - 0s 8us/step - loss: 0.4513 - accuracy: 0.8154 - val_loss: 0.4605 - val_accuracy: 0.8321\n",
      "Epoch 361/400\n",
      "623/623 [==============================] - 0s 13us/step - loss: 0.4513 - accuracy: 0.8154 - val_loss: 0.4604 - val_accuracy: 0.8321\n",
      "Epoch 362/400\n",
      "623/623 [==============================] - 0s 11us/step - loss: 0.4512 - accuracy: 0.8154 - val_loss: 0.4603 - val_accuracy: 0.8321\n",
      "Epoch 363/400\n",
      "623/623 [==============================] - 0s 10us/step - loss: 0.4512 - accuracy: 0.8154 - val_loss: 0.4602 - val_accuracy: 0.8321\n",
      "Epoch 364/400\n",
      "623/623 [==============================] - 0s 10us/step - loss: 0.4512 - accuracy: 0.8154 - val_loss: 0.4602 - val_accuracy: 0.8321\n",
      "Epoch 365/400\n",
      "623/623 [==============================] - 0s 10us/step - loss: 0.4511 - accuracy: 0.8154 - val_loss: 0.4602 - val_accuracy: 0.8321\n",
      "Epoch 366/400\n",
      "623/623 [==============================] - 0s 10us/step - loss: 0.4511 - accuracy: 0.8154 - val_loss: 0.4602 - val_accuracy: 0.8321\n",
      "Epoch 367/400\n",
      "623/623 [==============================] - 0s 10us/step - loss: 0.4511 - accuracy: 0.8154 - val_loss: 0.4602 - val_accuracy: 0.8321\n",
      "Epoch 368/400\n",
      "623/623 [==============================] - 0s 10us/step - loss: 0.4511 - accuracy: 0.8154 - val_loss: 0.4602 - val_accuracy: 0.8321\n",
      "Epoch 369/400\n",
      "623/623 [==============================] - 0s 10us/step - loss: 0.4510 - accuracy: 0.8154 - val_loss: 0.4601 - val_accuracy: 0.8358\n",
      "Epoch 370/400\n",
      "623/623 [==============================] - 0s 8us/step - loss: 0.4510 - accuracy: 0.8154 - val_loss: 0.4601 - val_accuracy: 0.8321\n",
      "Epoch 371/400\n",
      "623/623 [==============================] - 0s 10us/step - loss: 0.4510 - accuracy: 0.8154 - val_loss: 0.4601 - val_accuracy: 0.8358\n",
      "Epoch 372/400\n",
      "623/623 [==============================] - 0s 8us/step - loss: 0.4509 - accuracy: 0.8154 - val_loss: 0.4601 - val_accuracy: 0.8358\n",
      "Epoch 373/400\n",
      "623/623 [==============================] - 0s 10us/step - loss: 0.4509 - accuracy: 0.8138 - val_loss: 0.4600 - val_accuracy: 0.8321\n",
      "Epoch 374/400\n",
      "623/623 [==============================] - 0s 8us/step - loss: 0.4509 - accuracy: 0.8154 - val_loss: 0.4600 - val_accuracy: 0.8358\n",
      "Epoch 375/400\n",
      "623/623 [==============================] - 0s 10us/step - loss: 0.4508 - accuracy: 0.8138 - val_loss: 0.4600 - val_accuracy: 0.8321\n",
      "Epoch 376/400\n",
      "623/623 [==============================] - 0s 10us/step - loss: 0.4508 - accuracy: 0.8154 - val_loss: 0.4600 - val_accuracy: 0.8321\n",
      "Epoch 377/400\n",
      "623/623 [==============================] - 0s 8us/step - loss: 0.4508 - accuracy: 0.8154 - val_loss: 0.4601 - val_accuracy: 0.8358\n",
      "Epoch 378/400\n",
      "623/623 [==============================] - 0s 8us/step - loss: 0.4507 - accuracy: 0.8138 - val_loss: 0.4600 - val_accuracy: 0.8321\n",
      "Epoch 379/400\n",
      "623/623 [==============================] - 0s 8us/step - loss: 0.4507 - accuracy: 0.8170 - val_loss: 0.4600 - val_accuracy: 0.8321\n",
      "Epoch 380/400\n",
      "623/623 [==============================] - 0s 10us/step - loss: 0.4507 - accuracy: 0.8154 - val_loss: 0.4600 - val_accuracy: 0.8321\n",
      "Epoch 381/400\n",
      "623/623 [==============================] - 0s 10us/step - loss: 0.4507 - accuracy: 0.8154 - val_loss: 0.4600 - val_accuracy: 0.8321\n",
      "Epoch 382/400\n",
      "623/623 [==============================] - 0s 10us/step - loss: 0.4506 - accuracy: 0.8154 - val_loss: 0.4600 - val_accuracy: 0.8321\n",
      "Epoch 383/400\n",
      "623/623 [==============================] - 0s 8us/step - loss: 0.4506 - accuracy: 0.8154 - val_loss: 0.4599 - val_accuracy: 0.8321\n",
      "Epoch 384/400\n",
      "623/623 [==============================] - 0s 10us/step - loss: 0.4506 - accuracy: 0.8154 - val_loss: 0.4598 - val_accuracy: 0.8321\n",
      "Epoch 385/400\n",
      "623/623 [==============================] - 0s 10us/step - loss: 0.4505 - accuracy: 0.8154 - val_loss: 0.4597 - val_accuracy: 0.8321\n",
      "Epoch 386/400\n",
      "623/623 [==============================] - 0s 13us/step - loss: 0.4505 - accuracy: 0.8154 - val_loss: 0.4598 - val_accuracy: 0.8321\n",
      "Epoch 387/400\n",
      "623/623 [==============================] - 0s 11us/step - loss: 0.4505 - accuracy: 0.8154 - val_loss: 0.4599 - val_accuracy: 0.8358\n",
      "Epoch 388/400\n",
      "623/623 [==============================] - 0s 10us/step - loss: 0.4505 - accuracy: 0.8138 - val_loss: 0.4598 - val_accuracy: 0.8321\n",
      "Epoch 389/400\n",
      "623/623 [==============================] - 0s 8us/step - loss: 0.4504 - accuracy: 0.8170 - val_loss: 0.4598 - val_accuracy: 0.8358\n",
      "Epoch 390/400\n",
      "623/623 [==============================] - 0s 10us/step - loss: 0.4504 - accuracy: 0.8138 - val_loss: 0.4598 - val_accuracy: 0.8321\n",
      "Epoch 391/400\n",
      "623/623 [==============================] - 0s 8us/step - loss: 0.4504 - accuracy: 0.8170 - val_loss: 0.4598 - val_accuracy: 0.8321\n",
      "Epoch 392/400\n",
      "623/623 [==============================] - 0s 10us/step - loss: 0.4503 - accuracy: 0.8170 - val_loss: 0.4599 - val_accuracy: 0.8358\n",
      "Epoch 393/400\n",
      "623/623 [==============================] - 0s 8us/step - loss: 0.4503 - accuracy: 0.8138 - val_loss: 0.4598 - val_accuracy: 0.8321\n",
      "Epoch 394/400\n",
      "623/623 [==============================] - 0s 10us/step - loss: 0.4503 - accuracy: 0.8170 - val_loss: 0.4598 - val_accuracy: 0.8321\n",
      "Epoch 395/400\n",
      "623/623 [==============================] - 0s 10us/step - loss: 0.4503 - accuracy: 0.8170 - val_loss: 0.4598 - val_accuracy: 0.8358\n",
      "Epoch 396/400\n",
      "623/623 [==============================] - 0s 10us/step - loss: 0.4502 - accuracy: 0.8138 - val_loss: 0.4597 - val_accuracy: 0.8321\n",
      "Epoch 397/400\n",
      "623/623 [==============================] - 0s 8us/step - loss: 0.4502 - accuracy: 0.8170 - val_loss: 0.4597 - val_accuracy: 0.8358\n",
      "Epoch 398/400\n",
      "623/623 [==============================] - 0s 13us/step - loss: 0.4502 - accuracy: 0.8154 - val_loss: 0.4597 - val_accuracy: 0.8358\n",
      "Epoch 399/400\n",
      "623/623 [==============================] - 0s 11us/step - loss: 0.4501 - accuracy: 0.8154 - val_loss: 0.4596 - val_accuracy: 0.8321\n"
     ]
    },
    {
     "name": "stdout",
     "output_type": "stream",
     "text": [
      "Epoch 400/400\n",
      "623/623 [==============================] - 0s 8us/step - loss: 0.4501 - accuracy: 0.8170 - val_loss: 0.4596 - val_accuracy: 0.8358\n"
     ]
    }
   ],
   "source": [
    "history = model.fit(X_train_train,\n",
    "                    y_train_train,\n",
    "                    epochs=400,\n",
    "                    batch_size=891,\n",
    "                    validation_data=(X_train_test, y_train_test))"
   ]
  },
  {
   "cell_type": "code",
   "execution_count": 225,
   "metadata": {
    "collapsed": true
   },
   "outputs": [
    {
     "data": {
      "text/plain": [
       "dict_keys(['val_loss', 'val_accuracy', 'loss', 'accuracy'])"
      ]
     },
     "execution_count": 225,
     "metadata": {},
     "output_type": "execute_result"
    }
   ],
   "source": [
    "history_dict = history.history\n",
    "history_dict.keys()"
   ]
  },
  {
   "cell_type": "code",
   "execution_count": 321,
   "metadata": {
    "collapsed": true
   },
   "outputs": [
    {
     "data": {
      "text/plain": [
       "[<matplotlib.lines.Line2D at 0x1d5c2aca948>]"
      ]
     },
     "execution_count": 321,
     "metadata": {},
     "output_type": "execute_result"
    },
    {
     "data": {
      "image/png": "[encoded data removed]",
      "text/plain": [
       "<Figure size 432x288 with 1 Axes>"
      ]
     },
     "metadata": {
      "needs_background": "light"
     },
     "output_type": "display_data"
    }
   ],
   "source": [
    "acc = history.history['accuracy']\n",
    "val_acc = history.history['val_accuracy']\n",
    "loss = history.history['loss']\n",
    "val_loss = history.history['val_loss']\n",
    "\n",
    "epochs = range(1, len(acc) + 1)\n",
    "\n",
    "plt.plot(epochs, loss, 'b',color='r', label='Training loss')\n",
    "plt.plot(epochs, val_loss, 'b', label='Validation loss')"
   ]
  },
  {
   "cell_type": "code",
   "execution_count": null,
   "metadata": {},
   "outputs": [],
   "source": [
    "# После многочисленных изменений пареметров нейронной сети пришел к выводу, что итоговые характеристики являются лучшими"
   ]
  },
  {
   "cell_type": "code",
   "execution_count": 351,
   "metadata": {
    "collapsed": true
   },
   "outputs": [
    {
     "data": {
      "text/plain": [
       "[<tf.Variable 'dense_212/kernel:0' shape=(8, 6) dtype=float32, numpy=\n",
       " array([[-3.89370143e-01, -8.90362159e-11,  2.76362985e-01,\n",
       "          4.24517579e-02, -4.97606734e-10, -2.51560301e-01],\n",
       "        [ 1.59829050e-01, -1.45983919e-13,  6.63688362e-01,\n",
       "          1.10918365e-01, -1.56935812e-10,  1.55879632e-01],\n",
       "        [-5.74589223e-02,  1.04675608e-11,  2.81060845e-01,\n",
       "          4.84636277e-02, -1.13097559e-10, -6.52770326e-02],\n",
       "        [-2.21020475e-01,  1.34587914e-11, -1.45880267e-01,\n",
       "         -2.37383973e-02,  1.97315775e-11, -2.24182606e-01],\n",
       "        [-2.77371276e-02,  1.34922476e-10,  9.29888524e-03,\n",
       "          1.67600950e-03, -1.12131082e-10,  1.09845400e-02],\n",
       "        [ 1.40509784e-01,  2.33417008e-10,  2.05757499e-01,\n",
       "          3.42325121e-02, -2.16891560e-10,  7.07365423e-02],\n",
       "        [ 1.25166640e-01,  3.02920328e-11,  1.72860265e-01,\n",
       "          2.76510362e-02, -1.51993321e-10, -1.71076506e-02],\n",
       "        [-3.90444785e-01, -2.52746268e-10,  2.36536995e-01,\n",
       "          3.60395536e-02,  1.30912895e-06, -4.08593476e-01]], dtype=float32)>,\n",
       " <tf.Variable 'dense_212/bias:0' shape=(6,) dtype=float32, numpy=\n",
       " array([ 0.35431957, -0.20574732,  0.06157373,  1.1560841 , -0.0898561 ,\n",
       "         0.36204797], dtype=float32)>,\n",
       " <tf.Variable 'dense_213/kernel:0' shape=(6, 6) dtype=float32, numpy=\n",
       " array([[-2.58262217e-01,  4.52403069e-01, -4.36811490e-11,\n",
       "          3.54852140e-01, -1.45871110e-11, -1.39856964e-01],\n",
       "        [-7.10813214e-11, -3.81727733e-10, -4.01358807e-12,\n",
       "         -2.16156273e-10,  1.91855531e-10, -5.01607540e-11],\n",
       "        [ 4.35381055e-01, -5.52669466e-01,  3.25383748e-10,\n",
       "         -4.78925198e-01, -1.11119385e-10,  1.98955253e-01],\n",
       "        [ 8.42280611e-02, -8.44155028e-02,  3.71929265e-10,\n",
       "         -7.79354796e-02,  9.98001126e-11,  4.38914932e-02],\n",
       "        [-3.33463646e-10, -1.29769182e-10, -3.12348029e-11,\n",
       "          2.06311981e-10, -2.89052643e-10,  2.31423519e-10],\n",
       "        [-2.23100394e-01,  3.89570445e-01, -9.69381103e-11,\n",
       "          3.07962984e-01,  5.25339661e-10, -1.21064492e-01]], dtype=float32)>,\n",
       " <tf.Variable 'dense_213/bias:0' shape=(6,) dtype=float32, numpy=\n",
       " array([ 0.26199555,  0.6536133 , -0.21025339,  0.71027935, -0.15576407,\n",
       "         0.69859874], dtype=float32)>,\n",
       " <tf.Variable 'dense_214/kernel:0' shape=(6, 1) dtype=float32, numpy=\n",
       " array([[-2.1876667 ],\n",
       "        [ 3.880516  ],\n",
       "        [-0.05674452],\n",
       "        [ 3.0541325 ],\n",
       "        [-0.50519574],\n",
       "        [-1.2001802 ]], dtype=float32)>,\n",
       " <tf.Variable 'dense_214/bias:0' shape=(1,) dtype=float32, numpy=array([0.3193539], dtype=float32)>]"
      ]
     },
     "execution_count": 351,
     "metadata": {},
     "output_type": "execute_result"
    }
   ],
   "source": [
    "model.weights"
   ]
  },
  {
   "cell_type": "code",
   "execution_count": 352,
   "metadata": {
    "collapsed": true
   },
   "outputs": [
    {
     "name": "stdout",
     "output_type": "stream",
     "text": [
      "Model: \"sequential_75\"\n",
      "_________________________________________________________________\n",
      "Layer (type)                 Output Shape              Param #   \n",
      "=================================================================\n",
      "dense_212 (Dense)            (None, 6)                 54        \n",
      "_________________________________________________________________\n",
      "dense_213 (Dense)            (None, 6)                 42        \n",
      "_________________________________________________________________\n",
      "dense_214 (Dense)            (None, 1)                 7         \n",
      "=================================================================\n",
      "Total params: 103\n",
      "Trainable params: 103\n",
      "Non-trainable params: 0\n",
      "_________________________________________________________________\n"
     ]
    }
   ],
   "source": [
    "model.summary()"
   ]
  },
  {
   "cell_type": "code",
   "execution_count": 348,
   "metadata": {},
   "outputs": [],
   "source": [
    "predict1=model.predict(X_test)\n",
    "predict=np.where(predict1>=0.5,1,0)\n",
    "predict=predict.reshape(418,)"
   ]
  },
  {
   "cell_type": "code",
   "execution_count": 349,
   "metadata": {},
   "outputs": [],
   "source": [
    "titanic_submissions=pd.DataFrame({'PassengerId':titanic_test['PassengerId'],'Survived':predict})\n",
    "titanic_submissions.set_index('PassengerId', inplace=True)"
   ]
  },
  {
   "cell_type": "code",
   "execution_count": 350,
   "metadata": {},
   "outputs": [],
   "source": [
    "titanic_submissions.to_csv('titanic_submissions_neural_l2.csv')"
   ]
  },
  {
   "cell_type": "code",
   "execution_count": null,
   "metadata": {},
   "outputs": [],
   "source": []
  }
 ],
 "metadata": {
  "kernelspec": {
   "display_name": "Python 3",
   "language": "python",
   "name": "python3"
  },
  "language_info": {
   "codemirror_mode": {
    "name": "ipython",
    "version": 3
   },
   "file_extension": ".py",
   "mimetype": "text/x-python",
   "name": "python",
   "nbconvert_exporter": "python",
   "pygments_lexer": "ipython3",
   "version": "3.7.4"
  }
 },
 "nbformat": 4,
 "nbformat_minor": 2
}
